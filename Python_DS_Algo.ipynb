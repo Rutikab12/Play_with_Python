{
  "nbformat": 4,
  "nbformat_minor": 0,
  "metadata": {
    "colab": {
      "provenance": [],
      "collapsed_sections": [
        "H16ynMWU9Grs",
        "dDjHYwZ89Pbf"
      ],
      "toc_visible": true,
      "authorship_tag": "ABX9TyNs/Bby/7t5mFbsZRg5b804",
      "include_colab_link": true
    },
    "kernelspec": {
      "name": "python3",
      "display_name": "Python 3"
    },
    "language_info": {
      "name": "python"
    }
  },
  "cells": [
    {
      "cell_type": "markdown",
      "metadata": {
        "id": "view-in-github",
        "colab_type": "text"
      },
      "source": [
        "<a href=\"https://colab.research.google.com/github/Rutikab12/Play_with_Python/blob/main/Python_DS_Algo.ipynb\" target=\"_parent\"><img src=\"https://colab.research.google.com/assets/colab-badge.svg\" alt=\"Open In Colab\"/></a>"
      ]
    },
    {
      "cell_type": "markdown",
      "source": [
        "#HashMaps\n",
        "\n",
        "These are nothing but dictionaries that internally uses Hashing concept to allocate index.\n",
        "\n",
        "if you declare an empty hashmap i.e dictionary\n",
        "and try to assign a values to key, it gives error. Cause initially there is no key initialized.\n",
        "\n",
        "But with defaultdict() we can have a already initialized key and append values to it."
      ],
      "metadata": {
        "id": "H16ynMWU9Grs"
      }
    },
    {
      "cell_type": "code",
      "execution_count": null,
      "metadata": {
        "id": "8CFDLlNi4QF8"
      },
      "outputs": [],
      "source": [
        "#Hashmaps--gives key error\n",
        "maps={}\n",
        "city=['Cab','Bad','Val']\n",
        "maps['Canada'].append(city)\n",
        "print(maps)"
      ]
    },
    {
      "cell_type": "code",
      "source": [
        "#hence use\n",
        "from collections import defaultdict\n",
        "maps=defaultdict(list)\n",
        "city=['Cab','Bad','Val']\n",
        "maps['Canada'].append(city)\n",
        "print(maps)"
      ],
      "metadata": {
        "id": "ZLkmlmvY_G8i",
        "colab": {
          "base_uri": "https://localhost:8080/"
        },
        "outputId": "eea91731-1833-47e9-f19d-730132830fac"
      },
      "execution_count": null,
      "outputs": [
        {
          "output_type": "stream",
          "name": "stdout",
          "text": [
            "defaultdict(<class 'list'>, {'Canada': [['Cab', 'Bad', 'Val']]})\n"
          ]
        }
      ]
    },
    {
      "cell_type": "code",
      "source": [
        "#retriving data from hashmaps\n",
        "city={\"Canada\":['city','place','tree'],\"Dubai\":[\"Buildings\",\"cars\",\"Emirates\"],\"London\":[\"Clock\",\"River\",\"Sky\"]}\n",
        "city.values()"
      ],
      "metadata": {
        "colab": {
          "base_uri": "https://localhost:8080/"
        },
        "id": "3dR6gRQxS-gI",
        "outputId": "074a9b5a-7b53-4190-8be1-0f8651ee2f43"
      },
      "execution_count": null,
      "outputs": [
        {
          "output_type": "execute_result",
          "data": {
            "text/plain": [
              "dict_values([['city', 'place', 'tree'], ['Buildings', 'cars', 'Emirates'], ['Clock', 'River', 'Sky']])"
            ]
          },
          "metadata": {},
          "execution_count": 4
        }
      ]
    },
    {
      "cell_type": "code",
      "source": [
        "city.items()"
      ],
      "metadata": {
        "id": "g91erlc6TVbu",
        "outputId": "5f899633-095e-4cca-fc29-a29c20fcbf8e",
        "colab": {
          "base_uri": "https://localhost:8080/"
        }
      },
      "execution_count": null,
      "outputs": [
        {
          "output_type": "execute_result",
          "data": {
            "text/plain": [
              "dict_items([('Canada', ['city', 'place', 'tree']), ('Dubai', ['Buildings', 'cars', 'Emirates']), ('London', ['Clock', 'River', 'Sky'])])"
            ]
          },
          "metadata": {},
          "execution_count": 5
        }
      ]
    },
    {
      "cell_type": "code",
      "source": [
        "city.keys()"
      ],
      "metadata": {
        "id": "LYUv1z8uTYjP",
        "outputId": "256a9368-1ef2-481a-adcd-f7e1781b4bb5",
        "colab": {
          "base_uri": "https://localhost:8080/"
        }
      },
      "execution_count": null,
      "outputs": [
        {
          "output_type": "execute_result",
          "data": {
            "text/plain": [
              "dict_keys(['Canada', 'Dubai', 'London'])"
            ]
          },
          "metadata": {},
          "execution_count": 6
        }
      ]
    },
    {
      "cell_type": "markdown",
      "source": [
        "#Problem on Hashmap\n",
        "\n",
        "49 : Leetcode Group Anagrams\n",
        "\n",
        "Appraoch : initialize the empty list and defaultdict hashmap for already initialized keys.\n",
        "\n",
        "Then take letters in words and sort them in ascending order using sorted().\n",
        "\n",
        "Then treat those letters as keys and append values to them i.e original list.\n",
        "\n",
        "Now once the dict of type list is formed, append those lists to hashmap we declared at first step."
      ],
      "metadata": {
        "id": "JFPGlQzlW4N9"
      }
    },
    {
      "cell_type": "code",
      "source": [
        "from collections import defaultdict\n",
        "def group_anagram(ana_str):\n",
        "  anagram_map=defaultdict(list)\n",
        "  result=[]\n",
        "\n",
        "  for s in ana_str:\n",
        "    sorted_s=tuple(sorted(s)) #gives output as list, but list is mutable and can't be use as key in dict hence typecast it to tuple\n",
        "    #print(sorted_s) ('a','e','t')\n",
        "    anagram_map[sorted_s].append(s)\n",
        "\n",
        "  for value in anagram_map.values():\n",
        "    result.append(value)\n",
        "  return result\n",
        "\n",
        "ana_str=[\"eat\",\"tea\",\"tan\",\"ate\",\"nat\",\"bat\"]\n",
        "print(group_anagram(ana_str))"
      ],
      "metadata": {
        "id": "pfCVI67yTbDE",
        "colab": {
          "base_uri": "https://localhost:8080/"
        },
        "outputId": "bc752309-90c7-4d9b-cc84-c5dbb392fffa"
      },
      "execution_count": 12,
      "outputs": [
        {
          "output_type": "stream",
          "name": "stdout",
          "text": [
            "[['eat', 'tea', 'ate'], ['tan', 'nat'], ['bat']]\n"
          ]
        }
      ]
    },
    {
      "cell_type": "code",
      "source": [
        "string=['eat', 'tea', 'ate']\n",
        "for s in string:\n",
        "  sorted_s=sorted(s)\n",
        "  print(sorted_s)"
      ],
      "metadata": {
        "colab": {
          "base_uri": "https://localhost:8080/"
        },
        "id": "go-6x3XfYMVu",
        "outputId": "aaf3d5e8-764a-4aac-b1b5-cbbf384c7315"
      },
      "execution_count": 13,
      "outputs": [
        {
          "output_type": "stream",
          "name": "stdout",
          "text": [
            "['a', 'e', 't']\n",
            "['a', 'e', 't']\n",
            "['a', 'e', 't']\n"
          ]
        }
      ]
    },
    {
      "cell_type": "markdown",
      "source": [
        "#Sorting Algorithms:\n",
        "\n",
        "1: Bubble Sort\n",
        "\n",
        "It is a in-place sort meaning it does sorting without using any extra space or data structure.\n",
        "\n",
        "Working: it first place a pointer at position[1] and check if elements on left is greater than element on right, if true , swap their position, continue to do till list gets sorted.\n",
        "\n",
        "set falg=True , initially\n",
        "\n",
        "then inside while flag: set flag=False, #we will assume we are done and if swap needed we will turn it to True to run the while loop again\n",
        "\n",
        "TOC: O(n2)\n",
        "SOC:O(1)"
      ],
      "metadata": {
        "id": "lregfreIZVKG"
      }
    },
    {
      "cell_type": "code",
      "source": [
        "#Bubble Sort\n",
        "def bubble_sort(a):\n",
        "  n = len(a)\n",
        "  flag = True\n",
        "  while flag:\n",
        "    flag = False\n",
        "    for i in range(1, n):\n",
        "      if a[i-1] > a[i]:\n",
        "        flag = True\n",
        "        a[i-1], a[i] = a[i], a[i-1]\n",
        "\n",
        "a = [-5, 3, 2, 1, -3, -3, 7, 2, 2]\n",
        "bubble_sort(a)\n",
        "print(a)"
      ],
      "metadata": {
        "colab": {
          "base_uri": "https://localhost:8080/"
        },
        "id": "qyuth0wBaMmN",
        "outputId": "799d15b2-cc88-44c5-fa0b-5ef0f9fd955b"
      },
      "execution_count": 21,
      "outputs": [
        {
          "output_type": "stream",
          "name": "stdout",
          "text": [
            "[-5, -3, -3, 1, 2, 2, 2, 3, 7]\n"
          ]
        }
      ]
    },
    {
      "cell_type": "markdown",
      "source": [
        "#Insertion Sort\n",
        "\n",
        "Time: O(n^2)\n",
        "\n",
        "Space: O(1)\n",
        "\n",
        "Initialization:\n",
        "\n",
        "The algorithm starts with the first element of the array considered as the sorted part, and the rest of the array is considered as the unsorted part.\n",
        "\n",
        "Iteration:\n",
        "\n",
        "In each iteration, the algorithm takes the first element from the unsorted part and compares it with the elements in the sorted part.\n",
        "It shifts the elements in the sorted part to the right until it finds the correct position to insert the current element."
      ],
      "metadata": {
        "id": "_WBiCfz6eOzD"
      }
    },
    {
      "cell_type": "code",
      "source": [
        "def insertion_sort(nums):\n",
        "  n=len(nums)\n",
        "  for i in range(1,n):\n",
        "    for j in range(i,0,-1):\n",
        "      if nums[j-1]>nums[j]:\n",
        "        nums[j-1],nums[j]=nums[j],nums[j-1]\n",
        "      else:\n",
        "        break\n",
        "nums=[-5, 3, 2, 1, -3, -3, 7, 2, 2]\n",
        "insertion_sort(nums)\n",
        "print(nums)"
      ],
      "metadata": {
        "colab": {
          "base_uri": "https://localhost:8080/"
        },
        "id": "BhK2m8RZbINR",
        "outputId": "815af909-7b34-4022-ccd3-5940cddf3a75"
      },
      "execution_count": 23,
      "outputs": [
        {
          "output_type": "stream",
          "name": "stdout",
          "text": [
            "[-5, -3, -3, 1, 2, 2, 2, 3, 7]\n"
          ]
        }
      ]
    },
    {
      "cell_type": "markdown",
      "source": [
        "#Selection Sort\n",
        "\n",
        "SOC : O(n2)\n",
        "\n",
        "TOC : O(1)\n",
        "\n",
        "Working:\n",
        "\n",
        "Consider first index element as minimum and compare it with rest of the elements and if smaller element found swap their position.\n",
        "\n",
        "Now continue from next index element, rest is same."
      ],
      "metadata": {
        "id": "PTzcti0FyEMh"
      }
    },
    {
      "cell_type": "code",
      "source": [
        "def selection_sort(arr):\n",
        "  n=len(arr)\n",
        "  for i in range(n):\n",
        "    min_index=i\n",
        "    for j in range(i+1,n):\n",
        "      if arr[j]< arr[min_index]:\n",
        "        min_index=j\n",
        "    arr[i],arr[min_index]=arr[min_index],arr[i]\n",
        "\n",
        "\n",
        "arr=[-5, 3, 2, 1, -3, -3, 7, 2, 2]\n",
        "selection_sort(arr)\n",
        "print(arr)"
      ],
      "metadata": {
        "colab": {
          "base_uri": "https://localhost:8080/"
        },
        "id": "_cThkw6qf9FB",
        "outputId": "36803125-86bf-4deb-9e5c-d7123ba38181"
      },
      "execution_count": 25,
      "outputs": [
        {
          "output_type": "stream",
          "name": "stdout",
          "text": [
            "[-5, -3, -3, 1, 2, 2, 2, 3, 7]\n"
          ]
        }
      ]
    },
    {
      "cell_type": "markdown",
      "source": [
        "#Merge Sort\n",
        "\n",
        "TOC : NlognN\n",
        "SOC : O(n)\n",
        "\n",
        "**Working:**\n",
        "\n",
        "First divide the array to get middle point len(arr)//2--middle_point\n",
        "take element till mid point as left array : arr[:m]\n",
        "take element after mid point as right array : arr[m:]\n",
        "\n",
        "now do the recursive part, which is divind both parts into smaller and separte roots like tree and arrange them in a sorted manner.\n",
        "\n",
        "now initialize two pointer l,r=0,0\n",
        "and a empty array of size of array : [0]*n\n",
        "\n",
        "and now check while l<len(l) and r<len(r):\n",
        "\n",
        "then do if left element is less than right element, we will keep left only,store it in result_array[index] and increment l pointer.\n",
        "else store right element in result_Array[index] and increment right pointer.\n",
        "\n",
        "In both case increase i as we are storing at least one element in it."
      ],
      "metadata": {
        "id": "55FrMn7l2lcS"
      }
    },
    {
      "cell_type": "code",
      "source": [
        "#merge_sort\n",
        "def merge_sort(arr):\n",
        "  n=len(arr)\n",
        "  #write base condition\n",
        "  if n==1:\n",
        "    return arr\n",
        "  #take out middle point\n",
        "  m=n//2\n",
        "  left_arr=arr[:m]\n",
        "  right_arr=arr[m:]\n",
        "\n",
        "  #do the recursive call, for tree structure sorting of both left and right array\n",
        "  left_arr=merge_sort(left_arr)\n",
        "  right_arr=merge_sort(right_arr)\n",
        "\n",
        "  #initialize left and right pointers, their length also\n",
        "  l_index,r_index=0,0\n",
        "  l_len=len(left_arr)\n",
        "  r_len=len(right_arr)\n",
        "\n",
        "  result_array=[0]*n\n",
        "  i=0\n",
        "\n",
        "  #apply merge in linear time O(n)\n",
        "  while l_index<l_len and r_index<r_len:\n",
        "    if left_arr[l_index]<right_arr[r_index]:\n",
        "      result_array[i]=left_arr[l_index]\n",
        "      l_index+=1\n",
        "    else:\n",
        "      result_array[i]=right_arr[r_index]\n",
        "      r_index+=1\n",
        "    i+=1\n",
        "\n",
        "  #now what if one of index goes out of bound, to handle this\n",
        "  while l_index<l_len:\n",
        "    result_array[i]=left_arr[l_index]\n",
        "    l_index+=1\n",
        "    i+=1\n",
        "  #same for right part\n",
        "  while r_index<r_len:\n",
        "    result_array[i]=right_arr[r_index]\n",
        "    r_index+=1\n",
        "    i+=1\n",
        "\n",
        "  return result_array\n",
        "\n",
        "arr=[-5, 3, 2, 1, -3, -3, 7, 2, 2]\n",
        "print(merge_sort(arr))"
      ],
      "metadata": {
        "colab": {
          "base_uri": "https://localhost:8080/"
        },
        "id": "AciQ5OBS4O12",
        "outputId": "f136805e-b78e-4451-c03f-aa23ba7da5e9"
      },
      "execution_count": 30,
      "outputs": [
        {
          "output_type": "stream",
          "name": "stdout",
          "text": [
            "[-5, -3, -3, 1, 2, 2, 2, 3, 7]\n"
          ]
        }
      ]
    },
    {
      "cell_type": "markdown",
      "source": [
        "#Quick Sort\n",
        "\n",
        "skipped"
      ],
      "metadata": {
        "id": "dDjHYwZ89Pbf"
      }
    },
    {
      "cell_type": "code",
      "source": [],
      "metadata": {
        "id": "pUdeReRv59Yb"
      },
      "execution_count": null,
      "outputs": []
    },
    {
      "cell_type": "markdown",
      "source": [
        "# Counting Sort\n",
        "Time: O(n + k) where k is the range of data\n",
        "\n",
        "Note - This can be written with negative arrays, but we'll stick to positive arrays,\n",
        "so k is the max of the array\n",
        "\n",
        "Space: O(k)\n",
        "\n",
        "Working:\n",
        "\n",
        "- first takeout max element in the array. m\n",
        "- then initialze an empty array with size : m+1 and append 0's to it.\n",
        "- then take count of every element in array and add that count in result array at their index.\n",
        "- take another pointer in result array and compare it with value in array and decrement its count."
      ],
      "metadata": {
        "id": "IgbeRcPv9S7s"
      }
    },
    {
      "cell_type": "code",
      "source": [
        "#counting sort\n",
        "def counting_sort(arr):\n",
        "  n = len(arr)\n",
        "  maxx = max(arr)#max element in array\n",
        "  counts = [0] * (maxx + 1)\n",
        "\n",
        "  #initialize an result_array\n",
        "  counts=[0]*(maxx+1)\n",
        "\n",
        "  #take count of elements and update index of sorted_arr\n",
        "  for x in arr:\n",
        "    counts[x] += 1\n",
        "\n",
        "  i = 0\n",
        "  for c in range(maxx + 1):\n",
        "    while counts[c] > 0:\n",
        "      arr[i] = c\n",
        "      i += 1\n",
        "      counts[c] -= 1\n",
        "\n",
        "arr=[3, 2, 1, 7, 2, 2,3,5]\n",
        "counting_sort(arr)\n",
        "arr"
      ],
      "metadata": {
        "colab": {
          "base_uri": "https://localhost:8080/"
        },
        "id": "NxE9CCji-b_K",
        "outputId": "43c72e22-c415-4d77-87d1-79fe68283a65"
      },
      "execution_count": 37,
      "outputs": [
        {
          "output_type": "execute_result",
          "data": {
            "text/plain": [
              "[1, 2, 2, 2, 3, 3, 5, 7]"
            ]
          },
          "metadata": {},
          "execution_count": 37
        }
      ]
    },
    {
      "cell_type": "code",
      "source": [
        "# Sort array of tuples\n",
        "\n",
        "I = [(-5, 3), (2, 1), (-3, -3), (7, 2), (2, 2)]\n",
        "\n",
        "#interval problems will involve sorting of tuples\n",
        "#tuples can be sorted by first element in tuple or second,etc\n",
        "sorted_I = sorted(I, key = lambda t: -t[1])\n",
        "\n",
        "sorted_I"
      ],
      "metadata": {
        "colab": {
          "base_uri": "https://localhost:8080/"
        },
        "id": "53UgQfur_sGl",
        "outputId": "61283b39-d0c7-4b89-ccd7-a22b3a02a0d2"
      },
      "execution_count": 38,
      "outputs": [
        {
          "output_type": "execute_result",
          "data": {
            "text/plain": [
              "[(-5, 3), (7, 2), (2, 2), (2, 1), (-3, -3)]"
            ]
          },
          "metadata": {},
          "execution_count": 38
        }
      ]
    },
    {
      "cell_type": "code",
      "source": [],
      "metadata": {
        "id": "7uJtYFYHBJYR"
      },
      "execution_count": null,
      "outputs": []
    }
  ]
}