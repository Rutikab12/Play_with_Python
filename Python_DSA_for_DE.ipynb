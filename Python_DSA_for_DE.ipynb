{
  "nbformat": 4,
  "nbformat_minor": 0,
  "metadata": {
    "colab": {
      "provenance": [],
      "authorship_tag": "ABX9TyNqbNKwijLrfVY9HjBiQQnP",
      "include_colab_link": true
    },
    "kernelspec": {
      "name": "python3",
      "display_name": "Python 3"
    },
    "language_info": {
      "name": "python"
    }
  },
  "cells": [
    {
      "cell_type": "markdown",
      "metadata": {
        "id": "view-in-github",
        "colab_type": "text"
      },
      "source": [
        "<a href=\"https://colab.research.google.com/github/Rutikab12/Play_with_Python/blob/main/Python_DSA_for_DE.ipynb\" target=\"_parent\"><img src=\"https://colab.research.google.com/assets/colab-badge.svg\" alt=\"Open In Colab\"/></a>"
      ]
    },
    {
      "cell_type": "markdown",
      "source": [
        "#Time Complexity in Codes\n",
        "\n",
        "Time complexity != Time taken by program\n",
        "\n",
        "It is a rate at which time taken increases with repsect to input size.\n",
        "\n",
        "consider y=mx+c, where c and m are constant, but x is not.\n",
        "\n",
        "so, while computing TOC we genrelly\n",
        "--avoid constants and lower values\n",
        "--and think about worst case scenarios.\n",
        "\n",
        "eg: in for loop we will count the number of steps it takes while doing operation inside it."
      ],
      "metadata": {
        "id": "5Mno7eVEm9V2"
      }
    },
    {
      "cell_type": "code",
      "source": [
        "#1.Remove Element from a list or array\n",
        "def removeElement(nums,val):\n",
        "        n=len(nums)\n",
        "        i=0\n",
        "        for num in nums:\n",
        "            if num != val:\n",
        "                nums[i] = num\n",
        "                i += 1\n",
        "        return i,i\n",
        "\n",
        "nums=[3,2,2,3]\n",
        "val=3\n",
        "removeElement(nums,val)\n",
        "#o/p: [2,2]"
      ],
      "metadata": {
        "id": "vu9tPvihsmVs",
        "colab": {
          "base_uri": "https://localhost:8080/"
        },
        "outputId": "b9b30712-1e87-4bb8-951f-398ef8c983ba"
      },
      "execution_count": 8,
      "outputs": [
        {
          "output_type": "execute_result",
          "data": {
            "text/plain": [
              "(2, 2)"
            ]
          },
          "metadata": {},
          "execution_count": 8
        }
      ]
    },
    {
      "cell_type": "code",
      "source": [
        "#2.Two Sum Sorted Array\n",
        "def twoSum(numbers, target):\n",
        "        l, r = 0, len(numbers) - 1\n",
        "\n",
        "        while l < r:\n",
        "            s = numbers[l] + numbers[r]\n",
        "\n",
        "            if s == target:\n",
        "                return l + 1, r + 1\n",
        "            elif s > target:\n",
        "                r -= 1\n",
        "            else:\n",
        "                l += 1\n",
        "\n",
        "numbers=[2,7,11,15]\n",
        "target=9\n",
        "twoSum(numbers,target)\n",
        "#o/p:[1,2]"
      ],
      "metadata": {
        "colab": {
          "base_uri": "https://localhost:8080/"
        },
        "id": "pb9uavlKGzgT",
        "outputId": "10e9deb7-f952-443d-df0f-fb205d1fb61c"
      },
      "execution_count": 4,
      "outputs": [
        {
          "output_type": "execute_result",
          "data": {
            "text/plain": [
              "(1, 2)"
            ]
          },
          "metadata": {},
          "execution_count": 4
        }
      ]
    }
  ]
}