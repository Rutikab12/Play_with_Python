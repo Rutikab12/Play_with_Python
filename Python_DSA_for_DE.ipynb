{
  "nbformat": 4,
  "nbformat_minor": 0,
  "metadata": {
    "colab": {
      "provenance": [],
      "toc_visible": true,
      "authorship_tag": "ABX9TyMoo7OInoTGnkSjjPykEw2B",
      "include_colab_link": true
    },
    "kernelspec": {
      "name": "python3",
      "display_name": "Python 3"
    },
    "language_info": {
      "name": "python"
    }
  },
  "cells": [
    {
      "cell_type": "markdown",
      "metadata": {
        "id": "view-in-github",
        "colab_type": "text"
      },
      "source": [
        "<a href=\"https://colab.research.google.com/github/Rutikab12/Play_with_Python/blob/main/Python_DSA_for_DE.ipynb\" target=\"_parent\"><img src=\"https://colab.research.google.com/assets/colab-badge.svg\" alt=\"Open In Colab\"/></a>"
      ]
    },
    {
      "cell_type": "markdown",
      "source": [
        "#Time Complexity in Codes\n",
        "\n",
        "Time complexity != Time taken by program\n",
        "\n",
        "It is a rate at which time taken increases with repsect to input size.\n",
        "\n",
        "consider y=mx+c, where c and m are constant, but x is not.\n",
        "\n",
        "so, while computing TOC we genrelly\n",
        "--avoid constants and lower values\n",
        "--and think about worst case scenarios.\n",
        "\n",
        "eg: in for loop we will count the number of steps it takes while doing operation inside it."
      ],
      "metadata": {
        "id": "5Mno7eVEm9V2"
      }
    },
    {
      "cell_type": "code",
      "source": [
        "#1.Remove Element from a list or array\n",
        "def removeElement(nums,val):\n",
        "        n=len(nums)\n",
        "        i=0\n",
        "        for num in nums:\n",
        "            if num != val:\n",
        "                nums[i] = num\n",
        "                i += 1\n",
        "        return i,i\n",
        "\n",
        "nums=[3,2,2,3]\n",
        "val=3\n",
        "removeElement(nums,val)\n",
        "#o/p: [2,2]"
      ],
      "metadata": {
        "id": "vu9tPvihsmVs",
        "colab": {
          "base_uri": "https://localhost:8080/"
        },
        "outputId": "b9b30712-1e87-4bb8-951f-398ef8c983ba"
      },
      "execution_count": null,
      "outputs": [
        {
          "output_type": "execute_result",
          "data": {
            "text/plain": [
              "(2, 2)"
            ]
          },
          "metadata": {},
          "execution_count": 8
        }
      ]
    },
    {
      "cell_type": "code",
      "source": [
        "#2.Two Sum Sorted Array\n",
        "def twoSum(numbers, target):\n",
        "        l, r = 0, len(numbers) - 1\n",
        "\n",
        "        while l < r:\n",
        "            s = numbers[l] + numbers[r]\n",
        "\n",
        "            if s == target:\n",
        "                return l + 1, r + 1\n",
        "            elif s > target:\n",
        "                r -= 1\n",
        "            else:\n",
        "                l += 1\n",
        "\n",
        "numbers=[2,7,11,15]\n",
        "target=9\n",
        "twoSum(numbers,target)\n",
        "#o/p:[1,2]"
      ],
      "metadata": {
        "colab": {
          "base_uri": "https://localhost:8080/"
        },
        "id": "pb9uavlKGzgT",
        "outputId": "10e9deb7-f952-443d-df0f-fb205d1fb61c"
      },
      "execution_count": null,
      "outputs": [
        {
          "output_type": "execute_result",
          "data": {
            "text/plain": [
              "(1, 2)"
            ]
          },
          "metadata": {},
          "execution_count": 4
        }
      ]
    },
    {
      "cell_type": "markdown",
      "source": [
        "#LeetCode Problems Solved on 06/08/24\n",
        "\n",
        "- 53 : Maximum Subarray\n",
        "- Kadane's algo says, traverse the whole array and add. whenever element is negative then make it 0 otherwise add it.\n"
      ],
      "metadata": {
        "id": "FZ7VW18Kl2R_"
      }
    },
    {
      "cell_type": "code",
      "source": [
        "#use kadane's algorithm concept\n",
        "def maxSubArray(nums):\n",
        "  part_sum=nums[0]\n",
        "  glob_sum=nums[0]\n",
        "  for i in range(1,len(nums)):\n",
        "      part_sum=max(part_sum+nums[i],nums[i])\n",
        "      glob_sum=max(glob_sum,part_sum)\n",
        "  return glob_sum\n",
        "\n",
        "nums=[-2,1,-3,4,-1,2,1,-5,4]\n",
        "maxSubArray(nums)\n",
        "#o/p:6"
      ],
      "metadata": {
        "colab": {
          "base_uri": "https://localhost:8080/"
        },
        "id": "3Qpxt0YRmAjd",
        "outputId": "49a71ddf-87d1-4f01-d957-d0eec7460245"
      },
      "execution_count": null,
      "outputs": [
        {
          "output_type": "execute_result",
          "data": {
            "text/plain": [
              "6"
            ]
          },
          "metadata": {},
          "execution_count": 1
        }
      ]
    },
    {
      "cell_type": "code",
      "source": [
        "#optimal approach using O(n2)\n",
        "def maxSubArray(nums):\n",
        "  maxi=float('-inf')\n",
        "  for i in range(0,len(nums)):\n",
        "    sum=0\n",
        "    for j in range(i,len(nums)):\n",
        "      sum+=nums[j]\n",
        "      maxi=max(maxi,sum)\n",
        "  return maxi\n",
        "\n",
        "nums=[-2,1,-3,4,-1,2,1,-5,4]\n",
        "maxSubArray(nums)"
      ],
      "metadata": {
        "colab": {
          "base_uri": "https://localhost:8080/"
        },
        "id": "-SZIJH0qn19H",
        "outputId": "dc2825d7-a1b6-4062-c5ab-3519ae5c6924"
      },
      "execution_count": null,
      "outputs": [
        {
          "output_type": "execute_result",
          "data": {
            "text/plain": [
              "6"
            ]
          },
          "metadata": {},
          "execution_count": 5
        }
      ]
    },
    {
      "cell_type": "markdown",
      "source": [
        "#LeetCode Problems Solved on 07/08/2024\n",
        "\n",
        "- 28 : Find the index of first occurence of string\n",
        "- 29 : Divide Two Integers\n",
        "\n",
        "- Learned Hashing in Python\n",
        "\n",
        "While doing binary search we divide the array intwo parts and traverse accordingly, that takes time upto log(n), but what if we can store or traverse number directly by index, this is possible in hashing , which takes constant time O(1).\n",
        "\n",
        "There are different hashing techniques in order to deal with collision.\n",
        "1. closed addressing , where we do chaining\n",
        "2. Open addressing, where we do linear and quardatic probing.\n",
        "\n",
        "In python hashmap are achieved through dictionaries in form of key:value pair."
      ],
      "metadata": {
        "id": "gflIq7ONbb4P"
      }
    },
    {
      "cell_type": "code",
      "source": [
        "#one with find methodO(m*n) and other with O(n) using traversing\n",
        "def strStr(haystack,needle):\n",
        "  # a=haystack.find(needle)\n",
        "  # return a\n",
        "  m = len(haystack)\n",
        "  n = len(needle)\n",
        "\n",
        "  for i in range(m - n + 1):\n",
        "      if haystack[i:i + n] == needle:\n",
        "          return i\n",
        "\n",
        "  return -1\n",
        "\n",
        "haystack = \"sadbutsad\"\n",
        "needle = \"sad\"\n",
        "strStr(haystack,needle)"
      ],
      "metadata": {
        "colab": {
          "base_uri": "https://localhost:8080/"
        },
        "id": "hbX7F8PsbbQt",
        "outputId": "63806ab2-a402-448d-9560-4b251c0630e3"
      },
      "execution_count": null,
      "outputs": [
        {
          "output_type": "execute_result",
          "data": {
            "text/plain": [
              "0"
            ]
          },
          "metadata": {},
          "execution_count": 2
        }
      ]
    },
    {
      "cell_type": "code",
      "source": [
        "#using round function first approach\n",
        "#2nd is using range of integers for avoiding failure\n",
        "from math import floor,ceil\n",
        "def divide(dividend, divisor):\n",
        "  #return round(dividend/divisor,2)\n",
        "  if dividend == -2**31 and divisor == -1:\n",
        "      return 2**31 - 1\n",
        "  else:\n",
        "      div=dividend/divisor\n",
        "      if div>0:\n",
        "          return floor(div)\n",
        "      return ceil(div)\n",
        "\n",
        "dividend=10\n",
        "divisor=3\n",
        "divide(dividend,divisor)"
      ],
      "metadata": {
        "colab": {
          "base_uri": "https://localhost:8080/"
        },
        "id": "pVAqEa2ydhMv",
        "outputId": "0c8f8974-eb46-4da9-e5eb-ac23cc5c7186"
      },
      "execution_count": null,
      "outputs": [
        {
          "output_type": "execute_result",
          "data": {
            "text/plain": [
              "3"
            ]
          },
          "metadata": {},
          "execution_count": 3
        }
      ]
    },
    {
      "cell_type": "markdown",
      "source": [
        "#LeetCode Problems Solved on 08/08/2024\n",
        "\n",
        "- 1. Two Sum\n",
        "- 75. Sort Colors (3 appraoches)\n",
        "- 169. Majority Element (2 approaches)"
      ],
      "metadata": {
        "id": "42RSHCvVbqS5"
      }
    },
    {
      "cell_type": "code",
      "source": [
        "#two sum using dictionary\n",
        "def twoSum(nums, target):\n",
        "  dict_map=dict()\n",
        "  #print(dict_map)\n",
        "  n=len(nums)\n",
        "  for i,x in enumerate(nums): #gives index to numbers\n",
        "      if x in dict_map:\n",
        "          return dict_map[x],i\n",
        "          print(dict_map[x],i)\n",
        "      else:\n",
        "          dict_map[target-x]=i\n",
        "          #print(dict_map[target-x],i)\n",
        "  return [-1,-1]\n",
        "\n",
        "nums=[2,7,11,15]\n",
        "target=9\n",
        "twoSum(nums,target)"
      ],
      "metadata": {
        "colab": {
          "base_uri": "https://localhost:8080/"
        },
        "id": "PhlAUDYnbxZ8",
        "outputId": "5204a7c4-c93a-40c0-8f48-e4ea012fa7a0"
      },
      "execution_count": 4,
      "outputs": [
        {
          "output_type": "execute_result",
          "data": {
            "text/plain": [
              "(0, 1)"
            ]
          },
          "metadata": {},
          "execution_count": 4
        }
      ]
    },
    {
      "cell_type": "code",
      "source": [
        "#two sum problem resulting numbers which equal K\n",
        "def twoSum(nums,k):\n",
        "  nums.sort()\n",
        "  l=len(nums)\n",
        "  r=len(nums)-1\n",
        "  while l<r:\n",
        "      if nums[l]+nums[r]>target:\n",
        "          r=r-1\n",
        "      elif nums[l]+nums[r]<target:\n",
        "          l=l+1\n",
        "      elif nums[l]+nums[r]==target:\n",
        "          l=l+1\n",
        "          r=r-1\n",
        "\n",
        "\n",
        "nums=[2,7,11,15]\n",
        "target=9\n",
        "twoSum(nums,target)"
      ],
      "metadata": {
        "id": "XxZG48Vvejfj"
      },
      "execution_count": 17,
      "outputs": []
    },
    {
      "cell_type": "code",
      "source": [
        "#first using sort function with O(nlogn)\n",
        "def sortColors(nums):\n",
        "  # nums.sort()\n",
        "  # return nums\n",
        "  low = 0\n",
        "  mid = 0\n",
        "  high = len(nums) - 1\n",
        "\n",
        "  while mid <= high:\n",
        "      if nums[mid] == 0:\n",
        "          nums[low], nums[mid] = nums[mid], nums[low]\n",
        "          low += 1\n",
        "          mid += 1\n",
        "      elif nums[mid] == 1:\n",
        "          mid += 1\n",
        "      else:\n",
        "          nums[mid], nums[high] = nums[high], nums[mid]\n",
        "          high -= 1\n",
        "  return nums\n",
        "\n",
        "nums=[2,0,2,1,1,0]\n",
        "sortColors(nums)\n",
        "#"
      ],
      "metadata": {
        "colab": {
          "base_uri": "https://localhost:8080/"
        },
        "id": "UJm3Iw0MgDip",
        "outputId": "56877749-7b41-4662-8c9c-c4f1eb10b795"
      },
      "execution_count": 21,
      "outputs": [
        {
          "output_type": "execute_result",
          "data": {
            "text/plain": [
              "[0, 0, 1, 1, 2, 2]"
            ]
          },
          "metadata": {},
          "execution_count": 21
        }
      ]
    },
    {
      "cell_type": "code",
      "source": [
        "#second approach using counters for each 0,1,2 and then appending them O(n)+O(n)\n",
        "def sortColors(nums):\n",
        "  count_1=0\n",
        "  count_2=0\n",
        "  count_3=0\n",
        "  n=len(nums)\n",
        "  for i in range(n):\n",
        "      if nums[i]==0:\n",
        "          count_1=count_1+1\n",
        "      if nums[i]==1:\n",
        "          count_2=count_2+1\n",
        "      if nums[i]==2:\n",
        "          count_3=count_3+1\n",
        "\n",
        "  for i in range(count_1):\n",
        "      nums[i]=0\n",
        "  for i in range(count_1,count_1+count_2):\n",
        "      nums[i]=1\n",
        "  for i in range(count_1+count_2,n):\n",
        "      nums[i]=2\n",
        "  return nums\n",
        "\n",
        "nums=[2,0,2,1,1,0]\n",
        "sortColors(nums)\n",
        "#"
      ],
      "metadata": {
        "colab": {
          "base_uri": "https://localhost:8080/"
        },
        "id": "gRkRNIWQgSrc",
        "outputId": "47bccbf0-96a4-472f-ff54-b269900a77b9"
      },
      "execution_count": 19,
      "outputs": [
        {
          "output_type": "execute_result",
          "data": {
            "text/plain": [
              "[0, 0, 1, 1, 2, 2]"
            ]
          },
          "metadata": {},
          "execution_count": 19
        }
      ]
    },
    {
      "cell_type": "code",
      "source": [
        "#using sorted and floor division\n",
        "#second using counting technique\n",
        "def majorityElement(arr):\n",
        "  #m=sorted(nums)\n",
        "  #return m[len(nums)//2]\n",
        "    # Size of the given array\n",
        "    n = len(arr)\n",
        "\n",
        "    for i in range(n):\n",
        "        # Selected element is arr[i]\n",
        "        cnt = 0\n",
        "        for j in range(n):\n",
        "            # Counting the frequency of arr[i]\n",
        "            if arr[j] == arr[i]:\n",
        "                cnt += 1\n",
        "\n",
        "        # Check if frequency is greater than n/2\n",
        "        if cnt > (n // 2):\n",
        "            return arr[i]\n",
        "\n",
        "    return -1\n",
        "\n",
        "arr = [2, 2, 1, 1, 1, 2, 2]\n",
        "majorityElement(arr)"
      ],
      "metadata": {
        "colab": {
          "base_uri": "https://localhost:8080/"
        },
        "id": "ERSCUAJLnf2V",
        "outputId": "de424ab7-ef8c-4d61-a033-ab5468e2bc1b"
      },
      "execution_count": 23,
      "outputs": [
        {
          "output_type": "execute_result",
          "data": {
            "text/plain": [
              "2"
            ]
          },
          "metadata": {},
          "execution_count": 23
        }
      ]
    },
    {
      "cell_type": "code",
      "source": [
        "#third using better appraoch, where N = size of the given array.\n",
        "from collections import Counter\n",
        "def MajEle(nums):\n",
        "  n=len(nums)\n",
        "  counter=Counter(nums)\n",
        "  print(counter.items())\n",
        "  for num, count in counter.items():\n",
        "      if count > (n // 2):\n",
        "          return num\n",
        "  return -1\n",
        "\n",
        "nums=[3,2,3]\n",
        "MajEle(nums)"
      ],
      "metadata": {
        "colab": {
          "base_uri": "https://localhost:8080/"
        },
        "id": "KF_4Ejq-p1mD",
        "outputId": "c58fbc90-01f9-4bd9-cbfa-098dda8eafe7"
      },
      "execution_count": 29,
      "outputs": [
        {
          "output_type": "stream",
          "name": "stdout",
          "text": [
            "dict_items([(3, 2), (2, 1)])\n"
          ]
        },
        {
          "output_type": "execute_result",
          "data": {
            "text/plain": [
              "3"
            ]
          },
          "metadata": {},
          "execution_count": 29
        }
      ]
    },
    {
      "cell_type": "code",
      "source": [],
      "metadata": {
        "colab": {
          "base_uri": "https://localhost:8080/",
          "height": 219
        },
        "id": "VJ7P1ig_qqLe",
        "outputId": "cb9f282f-41dc-4a23-a97d-873fffdb5b1f"
      },
      "execution_count": 33,
      "outputs": [
        {
          "output_type": "error",
          "ename": "TypeError",
          "evalue": "'int' object is not iterable",
          "traceback": [
            "\u001b[0;31m---------------------------------------------------------------------------\u001b[0m",
            "\u001b[0;31mTypeError\u001b[0m                                 Traceback (most recent call last)",
            "\u001b[0;32m<ipython-input-33-c2e332b83ecc>\u001b[0m in \u001b[0;36m<cell line: 1>\u001b[0;34m()\u001b[0m\n\u001b[0;32m----> 1\u001b[0;31m \u001b[0mm\u001b[0m\u001b[0;34m=\u001b[0m\u001b[0msorted\u001b[0m\u001b[0;34m(\u001b[0m\u001b[0mnums\u001b[0m\u001b[0;34m)\u001b[0m\u001b[0;34m\u001b[0m\u001b[0;34m\u001b[0m\u001b[0m\n\u001b[0m\u001b[1;32m      2\u001b[0m \u001b[0mprint\u001b[0m\u001b[0;34m(\u001b[0m\u001b[0mm\u001b[0m\u001b[0;34m)\u001b[0m\u001b[0;34m\u001b[0m\u001b[0;34m\u001b[0m\u001b[0m\n\u001b[1;32m      3\u001b[0m \u001b[0mm\u001b[0m\u001b[0;34m=\u001b[0m\u001b[0mlen\u001b[0m\u001b[0;34m(\u001b[0m\u001b[0mnums\u001b[0m\u001b[0;34m)\u001b[0m\u001b[0;34m//\u001b[0m\u001b[0;36m2\u001b[0m\u001b[0;34m\u001b[0m\u001b[0;34m\u001b[0m\u001b[0m\n\u001b[1;32m      4\u001b[0m \u001b[0mprint\u001b[0m\u001b[0;34m(\u001b[0m\u001b[0mm\u001b[0m\u001b[0;34m)\u001b[0m\u001b[0;34m\u001b[0m\u001b[0;34m\u001b[0m\u001b[0m\n\u001b[1;32m      5\u001b[0m \u001b[0mnums\u001b[0m\u001b[0;34m=\u001b[0m\u001b[0;36m3\u001b[0m\u001b[0;34m//\u001b[0m\u001b[0;36m2\u001b[0m\u001b[0;34m\u001b[0m\u001b[0;34m\u001b[0m\u001b[0m\n",
            "\u001b[0;31mTypeError\u001b[0m: 'int' object is not iterable"
          ]
        }
      ]
    }
  ]
}