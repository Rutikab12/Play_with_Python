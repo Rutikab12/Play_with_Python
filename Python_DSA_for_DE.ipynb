{
  "nbformat": 4,
  "nbformat_minor": 0,
  "metadata": {
    "colab": {
      "provenance": [],
      "toc_visible": true,
      "collapsed_sections": [
        "5Mno7eVEm9V2",
        "FZ7VW18Kl2R_",
        "gflIq7ONbb4P",
        "42RSHCvVbqS5",
        "mEB4tz4TcVEy",
        "kB3SQ4LZ8WCq"
      ],
      "authorship_tag": "ABX9TyPEHdG5AtnMn8V8Fzogv18Q",
      "include_colab_link": true
    },
    "kernelspec": {
      "name": "python3",
      "display_name": "Python 3"
    },
    "language_info": {
      "name": "python"
    }
  },
  "cells": [
    {
      "cell_type": "markdown",
      "metadata": {
        "id": "view-in-github",
        "colab_type": "text"
      },
      "source": [
        "<a href=\"https://colab.research.google.com/github/Rutikab12/Play_with_Python/blob/main/Python_DSA_for_DE.ipynb\" target=\"_parent\"><img src=\"https://colab.research.google.com/assets/colab-badge.svg\" alt=\"Open In Colab\"/></a>"
      ]
    },
    {
      "cell_type": "markdown",
      "source": [
        "#Time Complexity in Codes\n",
        "\n",
        "Time complexity != Time taken by program\n",
        "\n",
        "It is a rate at which time taken increases with repsect to input size.\n",
        "\n",
        "consider y=mx+c, where c and m are constant, but x is not.\n",
        "\n",
        "so, while computing TOC we genrelly\n",
        "--avoid constants and lower values\n",
        "--and think about worst case scenarios.\n",
        "\n",
        "eg: in for loop we will count the number of steps it takes while doing operation inside it."
      ],
      "metadata": {
        "id": "5Mno7eVEm9V2"
      }
    },
    {
      "cell_type": "code",
      "source": [
        "#1.Remove Element from a list or array\n",
        "def removeElement(nums,val):\n",
        "        n=len(nums)\n",
        "        i=0\n",
        "        for num in nums:\n",
        "            if num != val:\n",
        "                nums[i] = num\n",
        "                i += 1\n",
        "        return i,i\n",
        "\n",
        "nums=[3,2,2,3]\n",
        "val=3\n",
        "removeElement(nums,val)\n",
        "#o/p: [2,2]"
      ],
      "metadata": {
        "id": "vu9tPvihsmVs",
        "colab": {
          "base_uri": "https://localhost:8080/"
        },
        "outputId": "b9b30712-1e87-4bb8-951f-398ef8c983ba"
      },
      "execution_count": null,
      "outputs": [
        {
          "output_type": "execute_result",
          "data": {
            "text/plain": [
              "(2, 2)"
            ]
          },
          "metadata": {},
          "execution_count": 8
        }
      ]
    },
    {
      "cell_type": "code",
      "source": [
        "#2.Two Sum Sorted Array\n",
        "def twoSum(numbers, target):\n",
        "        l, r = 0, len(numbers) - 1\n",
        "\n",
        "        while l < r:\n",
        "            s = numbers[l] + numbers[r]\n",
        "\n",
        "            if s == target:\n",
        "                return l + 1, r + 1\n",
        "            elif s > target:\n",
        "                r -= 1\n",
        "            else:\n",
        "                l += 1\n",
        "\n",
        "numbers=[2,7,11,15]\n",
        "target=9\n",
        "twoSum(numbers,target)\n",
        "#o/p:[1,2]"
      ],
      "metadata": {
        "colab": {
          "base_uri": "https://localhost:8080/"
        },
        "id": "pb9uavlKGzgT",
        "outputId": "10e9deb7-f952-443d-df0f-fb205d1fb61c"
      },
      "execution_count": null,
      "outputs": [
        {
          "output_type": "execute_result",
          "data": {
            "text/plain": [
              "(1, 2)"
            ]
          },
          "metadata": {},
          "execution_count": 4
        }
      ]
    },
    {
      "cell_type": "markdown",
      "source": [
        "#LeetCode Problems Solved on 06/08/24\n",
        "\n",
        "- 53 : Maximum Subarray\n",
        "- Kadane's algo says, traverse the whole array and add. whenever element is negative then make it 0 otherwise add it.\n"
      ],
      "metadata": {
        "id": "FZ7VW18Kl2R_"
      }
    },
    {
      "cell_type": "code",
      "source": [
        "#use kadane's algorithm concept\n",
        "def maxSubArray(nums):\n",
        "  part_sum=nums[0]\n",
        "  glob_sum=nums[0]\n",
        "  for i in range(1,len(nums)):\n",
        "      part_sum=max(part_sum+nums[i],nums[i])\n",
        "      glob_sum=max(glob_sum,part_sum)\n",
        "  return glob_sum\n",
        "\n",
        "nums=[-2,1,-3,4,-1,2,1,-5,4]\n",
        "maxSubArray(nums)\n",
        "#o/p:6"
      ],
      "metadata": {
        "colab": {
          "base_uri": "https://localhost:8080/"
        },
        "id": "3Qpxt0YRmAjd",
        "outputId": "49a71ddf-87d1-4f01-d957-d0eec7460245"
      },
      "execution_count": null,
      "outputs": [
        {
          "output_type": "execute_result",
          "data": {
            "text/plain": [
              "6"
            ]
          },
          "metadata": {},
          "execution_count": 1
        }
      ]
    },
    {
      "cell_type": "code",
      "source": [
        "#optimal approach using O(n2)\n",
        "def maxSubArray(nums):\n",
        "  maxi=float('-inf')\n",
        "  for i in range(0,len(nums)):\n",
        "    sum=0\n",
        "    for j in range(i,len(nums)):\n",
        "      sum+=nums[j]\n",
        "      maxi=max(maxi,sum)\n",
        "  return maxi\n",
        "\n",
        "nums=[-2,1,-3,4,-1,2,1,-5,4]\n",
        "maxSubArray(nums)"
      ],
      "metadata": {
        "colab": {
          "base_uri": "https://localhost:8080/"
        },
        "id": "-SZIJH0qn19H",
        "outputId": "dc2825d7-a1b6-4062-c5ab-3519ae5c6924"
      },
      "execution_count": null,
      "outputs": [
        {
          "output_type": "execute_result",
          "data": {
            "text/plain": [
              "6"
            ]
          },
          "metadata": {},
          "execution_count": 5
        }
      ]
    },
    {
      "cell_type": "markdown",
      "source": [
        "#LeetCode Problems Solved on 07/08/2024\n",
        "\n",
        "- 28 : Find the index of first occurence of string\n",
        "- 29 : Divide Two Integers\n",
        "\n",
        "- Learned Hashing in Python\n",
        "\n",
        "While doing binary search we divide the array intwo parts and traverse accordingly, that takes time upto log(n), but what if we can store or traverse number directly by index, this is possible in hashing , which takes constant time O(1).\n",
        "\n",
        "There are different hashing techniques in order to deal with collision.\n",
        "1. closed addressing , where we do chaining\n",
        "2. Open addressing, where we do linear and quardatic probing.\n",
        "\n",
        "In python hashmap are achieved through dictionaries in form of key:value pair."
      ],
      "metadata": {
        "id": "gflIq7ONbb4P"
      }
    },
    {
      "cell_type": "code",
      "source": [
        "#one with find methodO(m*n) and other with O(n) using traversing\n",
        "def strStr(haystack,needle):\n",
        "  # a=haystack.find(needle)\n",
        "  # return a\n",
        "  m = len(haystack)\n",
        "  n = len(needle)\n",
        "\n",
        "  for i in range(m - n + 1):\n",
        "      if haystack[i:i + n] == needle:\n",
        "          return i\n",
        "\n",
        "  return -1\n",
        "\n",
        "haystack = \"sadbutsad\"\n",
        "needle = \"sad\"\n",
        "strStr(haystack,needle)"
      ],
      "metadata": {
        "colab": {
          "base_uri": "https://localhost:8080/"
        },
        "id": "hbX7F8PsbbQt",
        "outputId": "63806ab2-a402-448d-9560-4b251c0630e3"
      },
      "execution_count": null,
      "outputs": [
        {
          "output_type": "execute_result",
          "data": {
            "text/plain": [
              "0"
            ]
          },
          "metadata": {},
          "execution_count": 2
        }
      ]
    },
    {
      "cell_type": "code",
      "source": [
        "#using round function first approach\n",
        "#2nd is using range of integers for avoiding failure\n",
        "from math import floor,ceil\n",
        "def divide(dividend, divisor):\n",
        "  #return round(dividend/divisor,2)\n",
        "  if dividend == -2**31 and divisor == -1:\n",
        "      return 2**31 - 1\n",
        "  else:\n",
        "      div=dividend/divisor\n",
        "      if div>0:\n",
        "          return floor(div)\n",
        "      return ceil(div)\n",
        "\n",
        "dividend=10\n",
        "divisor=3\n",
        "divide(dividend,divisor)"
      ],
      "metadata": {
        "colab": {
          "base_uri": "https://localhost:8080/"
        },
        "id": "pVAqEa2ydhMv",
        "outputId": "0c8f8974-eb46-4da9-e5eb-ac23cc5c7186"
      },
      "execution_count": null,
      "outputs": [
        {
          "output_type": "execute_result",
          "data": {
            "text/plain": [
              "3"
            ]
          },
          "metadata": {},
          "execution_count": 3
        }
      ]
    },
    {
      "cell_type": "markdown",
      "source": [
        "#LeetCode Problems Solved on 08/08/2024\n",
        "\n",
        "- 1. Two Sum\n",
        "- 75. Sort Colors (3 appraoches)\n",
        "- 169. Majority Element (2 approaches)"
      ],
      "metadata": {
        "id": "42RSHCvVbqS5"
      }
    },
    {
      "cell_type": "code",
      "source": [
        "#two sum using dictionary\n",
        "def twoSum(nums, target):\n",
        "  dict_map=dict()\n",
        "  #print(dict_map)\n",
        "  n=len(nums)\n",
        "  for i,x in enumerate(nums): #gives index to numbers\n",
        "      if x in dict_map:\n",
        "          return dict_map[x],i\n",
        "          print(dict_map[x],i)\n",
        "      else:\n",
        "          dict_map[target-x]=i\n",
        "          #print(dict_map[target-x],i)\n",
        "  return [-1,-1]\n",
        "\n",
        "nums=[2,7,11,15]\n",
        "target=9\n",
        "twoSum(nums,target)"
      ],
      "metadata": {
        "colab": {
          "base_uri": "https://localhost:8080/"
        },
        "id": "PhlAUDYnbxZ8",
        "outputId": "5204a7c4-c93a-40c0-8f48-e4ea012fa7a0"
      },
      "execution_count": null,
      "outputs": [
        {
          "output_type": "execute_result",
          "data": {
            "text/plain": [
              "(0, 1)"
            ]
          },
          "metadata": {},
          "execution_count": 4
        }
      ]
    },
    {
      "cell_type": "code",
      "source": [
        "#two sum problem resulting numbers which equal K\n",
        "def twoSum(nums,k):\n",
        "  nums.sort()\n",
        "  l=len(nums)\n",
        "  r=len(nums)-1\n",
        "  while l<r:\n",
        "      if nums[l]+nums[r]>target:\n",
        "          r=r-1\n",
        "      elif nums[l]+nums[r]<target:\n",
        "          l=l+1\n",
        "      elif nums[l]+nums[r]==target:\n",
        "          l=l+1\n",
        "          r=r-1\n",
        "\n",
        "\n",
        "nums=[2,7,11,15]\n",
        "target=9\n",
        "twoSum(nums,target)"
      ],
      "metadata": {
        "id": "XxZG48Vvejfj"
      },
      "execution_count": null,
      "outputs": []
    },
    {
      "cell_type": "code",
      "source": [
        "#first using sort function with O(nlogn)\n",
        "def sortColors(nums):\n",
        "  # nums.sort()\n",
        "  # return nums\n",
        "  low = 0\n",
        "  mid = 0\n",
        "  high = len(nums) - 1\n",
        "\n",
        "  while mid <= high:\n",
        "      if nums[mid] == 0:\n",
        "          nums[low], nums[mid] = nums[mid], nums[low]\n",
        "          low += 1\n",
        "          mid += 1\n",
        "      elif nums[mid] == 1:\n",
        "          mid += 1\n",
        "      else:\n",
        "          nums[mid], nums[high] = nums[high], nums[mid]\n",
        "          high -= 1\n",
        "  return nums\n",
        "\n",
        "nums=[2,0,2,1,1,0]\n",
        "sortColors(nums)\n",
        "#"
      ],
      "metadata": {
        "colab": {
          "base_uri": "https://localhost:8080/"
        },
        "id": "UJm3Iw0MgDip",
        "outputId": "56877749-7b41-4662-8c9c-c4f1eb10b795"
      },
      "execution_count": null,
      "outputs": [
        {
          "output_type": "execute_result",
          "data": {
            "text/plain": [
              "[0, 0, 1, 1, 2, 2]"
            ]
          },
          "metadata": {},
          "execution_count": 21
        }
      ]
    },
    {
      "cell_type": "code",
      "source": [
        "#second approach using counters for each 0,1,2 and then appending them O(n)+O(n)\n",
        "def sortColors(nums):\n",
        "  count_1=0\n",
        "  count_2=0\n",
        "  count_3=0\n",
        "  n=len(nums)\n",
        "  for i in range(n):\n",
        "      if nums[i]==0:\n",
        "          count_1=count_1+1\n",
        "      if nums[i]==1:\n",
        "          count_2=count_2+1\n",
        "      if nums[i]==2:\n",
        "          count_3=count_3+1\n",
        "\n",
        "  for i in range(count_1):\n",
        "      nums[i]=0\n",
        "  for i in range(count_1,count_1+count_2):\n",
        "      nums[i]=1\n",
        "  for i in range(count_1+count_2,n):\n",
        "      nums[i]=2\n",
        "  return nums\n",
        "\n",
        "nums=[2,0,2,1,1,0]\n",
        "sortColors(nums)\n",
        "#"
      ],
      "metadata": {
        "colab": {
          "base_uri": "https://localhost:8080/"
        },
        "id": "gRkRNIWQgSrc",
        "outputId": "47bccbf0-96a4-472f-ff54-b269900a77b9"
      },
      "execution_count": null,
      "outputs": [
        {
          "output_type": "execute_result",
          "data": {
            "text/plain": [
              "[0, 0, 1, 1, 2, 2]"
            ]
          },
          "metadata": {},
          "execution_count": 19
        }
      ]
    },
    {
      "cell_type": "code",
      "source": [
        "#using sorted and floor division\n",
        "#second using counting technique\n",
        "def majorityElement(arr):\n",
        "  #m=sorted(nums)\n",
        "  #return m[len(nums)//2]\n",
        "    # Size of the given array\n",
        "    n = len(arr)\n",
        "\n",
        "    for i in range(n):\n",
        "        # Selected element is arr[i]\n",
        "        cnt = 0\n",
        "        for j in range(n):\n",
        "            # Counting the frequency of arr[i]\n",
        "            if arr[j] == arr[i]:\n",
        "                cnt += 1\n",
        "\n",
        "        # Check if frequency is greater than n/2\n",
        "        if cnt > (n // 2):\n",
        "            return arr[i]\n",
        "\n",
        "    return -1\n",
        "\n",
        "arr = [2, 2, 1, 1, 1, 2, 2]\n",
        "majorityElement(arr)"
      ],
      "metadata": {
        "colab": {
          "base_uri": "https://localhost:8080/"
        },
        "id": "ERSCUAJLnf2V",
        "outputId": "de424ab7-ef8c-4d61-a033-ab5468e2bc1b"
      },
      "execution_count": null,
      "outputs": [
        {
          "output_type": "execute_result",
          "data": {
            "text/plain": [
              "2"
            ]
          },
          "metadata": {},
          "execution_count": 23
        }
      ]
    },
    {
      "cell_type": "code",
      "source": [
        "#third using better appraoch, where N = size of the given array.\n",
        "from collections import Counter\n",
        "def MajEle(nums):\n",
        "  n=len(nums)\n",
        "  counter=Counter(nums)\n",
        "  print(counter.items())\n",
        "  for num, count in counter.items():\n",
        "      if count > (n // 2):\n",
        "          return num\n",
        "  return -1\n",
        "\n",
        "nums=[3,2,3]\n",
        "MajEle(nums)"
      ],
      "metadata": {
        "colab": {
          "base_uri": "https://localhost:8080/"
        },
        "id": "KF_4Ejq-p1mD",
        "outputId": "c58fbc90-01f9-4bd9-cbfa-098dda8eafe7"
      },
      "execution_count": null,
      "outputs": [
        {
          "output_type": "stream",
          "name": "stdout",
          "text": [
            "dict_items([(3, 2), (2, 1)])\n"
          ]
        },
        {
          "output_type": "execute_result",
          "data": {
            "text/plain": [
              "3"
            ]
          },
          "metadata": {},
          "execution_count": 29
        }
      ]
    },
    {
      "cell_type": "markdown",
      "source": [
        "#LeetCode Problems Solved on 09/08/2024\n",
        "\n",
        "- 2149 :Rearrange Array Elements by sign (2 approaches)\n",
        "- 31 : Next Permutation"
      ],
      "metadata": {
        "id": "mEB4tz4TcVEy"
      }
    },
    {
      "cell_type": "code",
      "source": [
        "#Brute force appraoch, first segrgate the postive and negative numbers into two arrays\n",
        "#then store positive at index 2*i and negative at 2*i+1 index i.e odd with O(N2)\n",
        "def storesignele(nums):\n",
        "  a=[]\n",
        "  b=[]\n",
        "  n=len(nums)\n",
        "  for i in range(n):\n",
        "    if nums[i]>0:\n",
        "      a.append(nums[i])\n",
        "    else:\n",
        "      b.append(nums[i])\n",
        "  for i in range(len(a)):\n",
        "      nums[2*i]=a[i]\n",
        "  for i in range(len(b)):\n",
        "      nums[2*i+1]=b[i]\n",
        "  return nums\n",
        "\n",
        "nums=[3,1,-2,-5]\n",
        "storesignele(nums)"
      ],
      "metadata": {
        "colab": {
          "base_uri": "https://localhost:8080/"
        },
        "id": "VJ7P1ig_qqLe",
        "outputId": "de2f43f3-35d6-4562-efb7-16e6ff014510"
      },
      "execution_count": null,
      "outputs": [
        {
          "output_type": "execute_result",
          "data": {
            "text/plain": [
              "[3, -2, 1, -5]"
            ]
          },
          "metadata": {},
          "execution_count": 5
        }
      ]
    },
    {
      "cell_type": "code",
      "source": [
        "#optimal appraoch using same method but ,we will use a separate array and initialze it to size of original one\n",
        "#then traverse original array and check if num>0 then store it in even index else store it in odd index and advance pointers by 2\n",
        "def storresignele(nums):\n",
        "  n=len(nums)\n",
        "  ans=[0]*n\n",
        "  pos,neg=0,1\n",
        "  for num in nums:\n",
        "    if num>0:\n",
        "      ans[pos]=num\n",
        "      pos+=2\n",
        "    else:\n",
        "      ans[neg]=num\n",
        "      neg+=2\n",
        "  return ans\n",
        "\n",
        "nums=[3,1,-2,-5]\n",
        "storresignele(nums)"
      ],
      "metadata": {
        "colab": {
          "base_uri": "https://localhost:8080/"
        },
        "id": "Td8-1mumfXk4",
        "outputId": "62fb2490-07cf-493a-e85c-9253dbf7c399"
      },
      "execution_count": null,
      "outputs": [
        {
          "output_type": "execute_result",
          "data": {
            "text/plain": [
              "[3, -2, 1, -5]"
            ]
          },
          "metadata": {},
          "execution_count": 6
        }
      ]
    },
    {
      "cell_type": "code",
      "source": [
        "#solution using break point technique, permutation means all possible combinations of the given array, len(nums)!\n",
        "#O(3N)\n",
        "def nextpermutation(nums):\n",
        "#first find the breakpoint\n",
        "  n=len(nums)\n",
        "  ind=-1\n",
        "  for i in range(n-2,-1,-1):\n",
        "      if nums[i]<nums[i+1]:\n",
        "          ind=i #this is break point\n",
        "          break\n",
        "\n",
        "  #if break point does not exists\n",
        "  if ind==-1:\n",
        "      nums.reverse()\n",
        "      return nums\n",
        "  #find the next greater element and swap it with nums[ind]\n",
        "  for i in range(n-1,ind,-1):\n",
        "      if nums[i]>nums[ind]:\n",
        "          nums[i],nums[ind]=nums[ind],nums[i]\n",
        "          break\n",
        "  #reverse the right half\n",
        "  nums[ind+1:]=reversed(nums[ind+1:])\n",
        "  return nums\n",
        "\n",
        "nums=[1,2,3,4,5]\n",
        "nextpermutation(nums)"
      ],
      "metadata": {
        "colab": {
          "base_uri": "https://localhost:8080/"
        },
        "id": "Y9td0yCbmW7Q",
        "outputId": "e7ec159b-5de8-4c39-c3ea-f7414b0c3d11"
      },
      "execution_count": null,
      "outputs": [
        {
          "output_type": "execute_result",
          "data": {
            "text/plain": [
              "[1, 2, 3, 5, 4]"
            ]
          },
          "metadata": {},
          "execution_count": 8
        }
      ]
    },
    {
      "cell_type": "code",
      "source": [
        "#brute force appraoch O(n2)\n",
        "def nextpermutation(nums):\n",
        "  n=len(nums)\n",
        "  for i in range(n-1,-1,-1):\n",
        "      for j in range(i-1,-1,-1):\n",
        "          if nums[i]>nums[j]:\n",
        "              nums[i],nums[j]=nums[j],nums[i]\n",
        "              return nums\n",
        "\n",
        "  return nums\n",
        "\n",
        "nums=[3,5,8,9]\n",
        "nextpermutation(nums)\n"
      ],
      "metadata": {
        "colab": {
          "base_uri": "https://localhost:8080/"
        },
        "id": "6_L1sleimwSS",
        "outputId": "808f7adb-7b23-40bb-d0c1-64548c54f0bd"
      },
      "execution_count": null,
      "outputs": [
        {
          "output_type": "execute_result",
          "data": {
            "text/plain": [
              "[3, 5, 9, 8]"
            ]
          },
          "metadata": {},
          "execution_count": 11
        }
      ]
    },
    {
      "cell_type": "markdown",
      "source": [
        "#LeetCode Problems Solved on 12/08/2024\n",
        "\n",
        "- 1299 :Replace Element with the greatest element on the right (3 approaches)\n",
        "- 128 :Longest Consecutive Sequence (optimal appraoch only)\n",
        "- Recursion Problems:\n",
        "  1. Print 1 to N without loops\n",
        "  2. Print N to 1 without loops\n",
        "  3. Sum of first N terms\n",
        "  4. Sum of cube of first N terms\n",
        "  5. Factorial of a number\n",
        "  6. Factorial of a number less than or equal to n\n",
        "  7. Print something N times"
      ],
      "metadata": {
        "id": "kB3SQ4LZ8WCq"
      }
    },
    {
      "cell_type": "code",
      "source": [
        "#Leader in an array not excatly O(n2)\n",
        "def leader(nums):\n",
        "  n=len(nums)\n",
        "  for i in range(n):\n",
        "    leader=True\n",
        "    for j in range(i+1,n):\n",
        "      if nums[i]<nums[j]:\n",
        "        leader=False\n",
        "        break\n",
        "        #print(nums[i])\n",
        "    if leader:\n",
        "      print(nums[i])\n",
        "\n",
        "nums=[17,18,5,4,6]\n",
        "leader(nums)"
      ],
      "metadata": {
        "colab": {
          "base_uri": "https://localhost:8080/"
        },
        "id": "_57Cr3cC9kvW",
        "outputId": "e145bafa-35e5-4725-9594-071b6b7ac7ff"
      },
      "execution_count": null,
      "outputs": [
        {
          "output_type": "stream",
          "name": "stdout",
          "text": [
            "18\n",
            "6\n"
          ]
        }
      ]
    },
    {
      "cell_type": "code",
      "source": [
        "#O(n) solution using last element as leader and then compare it with other elements\n",
        "def leader(arr):\n",
        "  #declare last element as leader\n",
        "  ans=[]\n",
        "  n=len(arr)\n",
        "  max_ele=arr[n-1]\n",
        "  ans.append(max_ele)\n",
        "  for i in range(n-2,-1,-1):\n",
        "       if arr[i]>max_ele:\n",
        "          ans.append(arr[i])\n",
        "          max_ele=arr[i]\n",
        "  return ans\n",
        "\n",
        "arr=[17,18,5,4,6]\n",
        "leader(arr)"
      ],
      "metadata": {
        "colab": {
          "base_uri": "https://localhost:8080/"
        },
        "id": "0LXlN1pSAV1N",
        "outputId": "b1f52954-5811-45ad-dcd5-bfb1ea55cbf6"
      },
      "execution_count": null,
      "outputs": [
        {
          "output_type": "execute_result",
          "data": {
            "text/plain": [
              "[6, 18]"
            ]
          },
          "metadata": {},
          "execution_count": 2
        }
      ]
    },
    {
      "cell_type": "code",
      "source": [
        "#third solution using reversed method\n",
        "def leader(arr):\n",
        "  max_ele=-1\n",
        "  for i in reversed(range(len(arr))):\n",
        "    arr[i], max_ele = max_ele, max(max_ele, arr[i])\n",
        "  return arr\n",
        "\n",
        "arr=[17,18,5,4,6]\n",
        "leader(arr)"
      ],
      "metadata": {
        "colab": {
          "base_uri": "https://localhost:8080/"
        },
        "id": "gytbU9LEAlui",
        "outputId": "de054381-fefa-4df9-e283-e0ffaa963a94"
      },
      "execution_count": null,
      "outputs": [
        {
          "output_type": "execute_result",
          "data": {
            "text/plain": [
              "[18, 6, 6, 6, -1]"
            ]
          },
          "metadata": {},
          "execution_count": 13
        }
      ]
    },
    {
      "cell_type": "code",
      "source": [
        "#longest consecutive sequence\n",
        "#here first make it set,then\n",
        "def longestConsecutive(nums):\n",
        "  numset=set(nums) #sort the array\n",
        "  longest=0 #initialze the longest streak as 0\n",
        "\n",
        "  for n in nums:\n",
        "    #print(n)\n",
        "    if (n-1) not in numset:\n",
        "        length=0\n",
        "        while(n+length) in numset:\n",
        "            length+=1\n",
        "        longest=max(length,longest)\n",
        "  return longest\n",
        "\n",
        "nums=[100,4,200,1,3,2]\n",
        "longestConsecutive(nums)"
      ],
      "metadata": {
        "colab": {
          "base_uri": "https://localhost:8080/"
        },
        "id": "AuTDelAJDOEs",
        "outputId": "8aaa1afe-1b86-49ed-e32e-5ff21e1df7b9"
      },
      "execution_count": null,
      "outputs": [
        {
          "output_type": "execute_result",
          "data": {
            "text/plain": [
              "4"
            ]
          },
          "metadata": {},
          "execution_count": 18
        }
      ]
    },
    {
      "cell_type": "code",
      "source": [
        "#print something N times for recursin practice\n",
        "def print_n_times(message, n):\n",
        "    # Base case: If n is 0, stop the recursion\n",
        "    if n > 0:\n",
        "        print(message)\n",
        "        # Recursive call with n-1\n",
        "        print_n_times(message, n - 1)\n",
        "\n",
        "# Example usage:\n",
        "message = \"Hello, World!\"\n",
        "n = 5\n",
        "print_n_times(message, n)"
      ],
      "metadata": {
        "colab": {
          "base_uri": "https://localhost:8080/"
        },
        "id": "DTEdv5ovusjG",
        "outputId": "100e3278-ca13-4ae4-e715-d7d8be35c2f3"
      },
      "execution_count": null,
      "outputs": [
        {
          "output_type": "stream",
          "name": "stdout",
          "text": [
            "Hello, World!\n",
            "Hello, World!\n",
            "Hello, World!\n",
            "Hello, World!\n",
            "Hello, World!\n"
          ]
        }
      ]
    },
    {
      "cell_type": "code",
      "source": [
        "#print 1 to n\n",
        "def print1ton(n):\n",
        "  if n==0:\n",
        "    return\n",
        "  print1ton(n-1)\n",
        "  print(n)\n",
        "\n",
        "n=5\n",
        "print1ton(n)"
      ],
      "metadata": {
        "colab": {
          "base_uri": "https://localhost:8080/"
        },
        "id": "P8S-M0EFKDnZ",
        "outputId": "f8404d06-84c2-483a-a0fa-5c47dfc3e982"
      },
      "execution_count": null,
      "outputs": [
        {
          "output_type": "stream",
          "name": "stdout",
          "text": [
            "1\n",
            "2\n",
            "3\n",
            "4\n",
            "5\n"
          ]
        }
      ]
    },
    {
      "cell_type": "code",
      "source": [
        "#print N to 1\n",
        "def printn1(n):\n",
        "  if n==0:\n",
        "    return\n",
        "  print(n)\n",
        "  printn1(n-1)\n",
        "\n",
        "n=5\n",
        "printn1(n)"
      ],
      "metadata": {
        "colab": {
          "base_uri": "https://localhost:8080/"
        },
        "id": "XO9ef-9elqYJ",
        "outputId": "d779ea38-370e-46eb-fb5d-e2f87e579884"
      },
      "execution_count": null,
      "outputs": [
        {
          "output_type": "stream",
          "name": "stdout",
          "text": [
            "5\n",
            "4\n",
            "3\n",
            "2\n",
            "1\n"
          ]
        }
      ]
    },
    {
      "cell_type": "code",
      "source": [
        "#sum first n terms\n",
        "def sum(n):\n",
        "  # ans=(n*(n+1))**2//4\n",
        "  # return ans\n",
        "  if n>0:\n",
        "    return n+sum(n-1)\n",
        "  else:\n",
        "    return 0\n",
        "n=5\n",
        "sum(n)"
      ],
      "metadata": {
        "colab": {
          "base_uri": "https://localhost:8080/"
        },
        "id": "SK_RzWxBmvxd",
        "outputId": "5546c384-307b-415d-933d-080a26ff0f3c"
      },
      "execution_count": null,
      "outputs": [
        {
          "output_type": "execute_result",
          "data": {
            "text/plain": [
              "15"
            ]
          },
          "metadata": {},
          "execution_count": 38
        }
      ]
    },
    {
      "cell_type": "code",
      "source": [
        "#sum of cube of first n terms\n",
        "def sumcube(n):\n",
        "  if n>0:\n",
        "    return n**3+sumcube(n-1)\n",
        "  else:\n",
        "    return 0\n",
        "\n",
        "n=5\n",
        "sumcube(n)"
      ],
      "metadata": {
        "colab": {
          "base_uri": "https://localhost:8080/"
        },
        "id": "OJ6YiMREoybi",
        "outputId": "9bed4558-02ea-4ae2-b6f2-b4c1c3c7d6cd"
      },
      "execution_count": null,
      "outputs": [
        {
          "output_type": "execute_result",
          "data": {
            "text/plain": [
              "225"
            ]
          },
          "metadata": {},
          "execution_count": 39
        }
      ]
    },
    {
      "cell_type": "code",
      "source": [
        "#Find factorial of a number\n",
        "def fact(n):\n",
        "  if n==0:\n",
        "    return 1\n",
        "  return n*fact(n-1)\n",
        "\n",
        "n=5\n",
        "fact(n)\n",
        "#"
      ],
      "metadata": {
        "colab": {
          "base_uri": "https://localhost:8080/"
        },
        "id": "1pWZuAm6qVPH",
        "outputId": "6e9db57a-0c57-48e6-bded-4eb92f97162d"
      },
      "execution_count": null,
      "outputs": [
        {
          "output_type": "execute_result",
          "data": {
            "text/plain": [
              "120"
            ]
          },
          "metadata": {},
          "execution_count": 37
        }
      ]
    },
    {
      "cell_type": "code",
      "source": [
        "#Find all factorial numbers less than or equal to n\n",
        "def fact(n):\n",
        "  fac = 1  # initialize the factorial to 1\n",
        "  x = 2 #initialize x to 2\n",
        "  ans = []  # create an empty list to store the factorial numbers\n",
        "  while fac <= n:  # iterate until the factorial is less than or equal to N\n",
        "      ans.append(fac)  # add the factorial to the list\n",
        "      fac *= x  # calculate the next factorial by multiplying it with x\n",
        "      x += 1  # increase the value of x by 1 for the next iteration\n",
        "  return ans\n",
        "\n",
        "n=6\n",
        "fact(n)"
      ],
      "metadata": {
        "colab": {
          "base_uri": "https://localhost:8080/"
        },
        "id": "JyVT-HMhthsO",
        "outputId": "56d21ea7-3b8f-4055-d0de-719b083c0636"
      },
      "execution_count": null,
      "outputs": [
        {
          "output_type": "execute_result",
          "data": {
            "text/plain": [
              "[1, 2, 6]"
            ]
          },
          "metadata": {},
          "execution_count": 41
        }
      ]
    },
    {
      "cell_type": "markdown",
      "source": [
        "#LeetCode Problems Solved on 13/08/2024\n",
        "\n",
        "1021. Remove Outermost Parenthesis\n",
        "20. Valid Parenthesis"
      ],
      "metadata": {
        "id": "BO_aghWM_Srt"
      }
    },
    {
      "cell_type": "code",
      "source": [
        "#remove outermost parenthesis\n",
        "#here what we do is we take one empty list and then check in input string whether bracket is present or not.\n",
        "#maintain the count and return final list\n",
        "def remove(s):\n",
        "  ans=\"\"\n",
        "  count=0\n",
        "  for i in range(len(s)):\n",
        "    if s[i]==\"(\":\n",
        "      if count!=0:\n",
        "        ans+=\"(\"\n",
        "      count+=1\n",
        "    else:\n",
        "      count-=1\n",
        "      if count!=0:\n",
        "        ans+=\")\"\n",
        "  return ans\n",
        "\n",
        "s=\"(()())(())\"\n",
        "remove(s)"
      ],
      "metadata": {
        "colab": {
          "base_uri": "https://localhost:8080/",
          "height": 36
        },
        "id": "Sk27JYGy_atr",
        "outputId": "ad3ba24a-e672-4e74-e395-9af8d3d5fbe5"
      },
      "execution_count": null,
      "outputs": [
        {
          "output_type": "execute_result",
          "data": {
            "text/plain": [
              "'()()()'"
            ],
            "application/vnd.google.colaboratory.intrinsic+json": {
              "type": "string"
            }
          },
          "metadata": {},
          "execution_count": 1
        }
      ]
    },
    {
      "cell_type": "code",
      "source": [
        "#Valid Parenthesis\n",
        "def valid(s):\n",
        "  stack = []\n",
        "  for c in s:\n",
        "      if c == '(':\n",
        "          stack.append(')')\n",
        "      elif c == '{':\n",
        "          stack.append('}')\n",
        "      elif c == '[':\n",
        "          stack.append(']')\n",
        "      elif not stack or stack.pop() != c:\n",
        "          return False\n",
        "\n",
        "  return not stack\n",
        "\n",
        "s=\"(){}[]\"\n",
        "valid(s)"
      ],
      "metadata": {
        "colab": {
          "base_uri": "https://localhost:8080/"
        },
        "id": "ZcX9u-dCCzaI",
        "outputId": "6d37583a-3e9d-429c-e5c6-6589b5379144"
      },
      "execution_count": null,
      "outputs": [
        {
          "output_type": "execute_result",
          "data": {
            "text/plain": [
              "True"
            ]
          },
          "metadata": {},
          "execution_count": 2
        }
      ]
    },
    {
      "cell_type": "markdown",
      "source": [
        "#LeetCode Problems Solved on 14/08/2024\n",
        "\n",
        "1. Factorial without recursion\n",
        "2. Find out number of items in list using recursion\n",
        "3. Print Each Character N Times using recursion\n",
        "4. Reverse Words in String\n",
        "5. 347 - Top k Frequent elements"
      ],
      "metadata": {
        "id": "s3jeq1hTXM4a"
      }
    },
    {
      "cell_type": "code",
      "source": [
        "#factorial without recursion\n",
        "def fact(n):\n",
        "  fact=1\n",
        "  for i in range(n,0,-1):\n",
        "    fact*=i\n",
        "  return fact\n",
        "\n",
        "n=5\n",
        "fact(n)"
      ],
      "metadata": {
        "colab": {
          "base_uri": "https://localhost:8080/"
        },
        "id": "IgZQSF5AXxN0",
        "outputId": "bbee9235-a809-458b-a38f-9ef5fd657ea9"
      },
      "execution_count": 3,
      "outputs": [
        {
          "output_type": "execute_result",
          "data": {
            "text/plain": [
              "120"
            ]
          },
          "metadata": {},
          "execution_count": 3
        }
      ]
    },
    {
      "cell_type": "code",
      "source": [
        "#count of items in list using recursion\n",
        "#1+count([2,3]),1+1+count([3]),1+1+1+[] hence result is 3\n",
        "def countitem(str):\n",
        "  if not str:\n",
        "    return 0\n",
        "  return 1+countitem(str[1:])\n",
        "\n",
        "str=[1,2,3]\n",
        "countitem(str)"
      ],
      "metadata": {
        "colab": {
          "base_uri": "https://localhost:8080/"
        },
        "id": "KV7OdbkfZA3r",
        "outputId": "b363fef2-f26c-4912-acf0-f174029d3be3"
      },
      "execution_count": 4,
      "outputs": [
        {
          "output_type": "execute_result",
          "data": {
            "text/plain": [
              "3"
            ]
          },
          "metadata": {},
          "execution_count": 4
        }
      ]
    },
    {
      "cell_type": "code",
      "source": [
        "#print each character n times\n",
        "#3*a+([bc],3),3*a+3*b+([c],3) in this way\n",
        "def printn(s,n):\n",
        "  if len(s)==0:\n",
        "    return \"\"\n",
        "  return n*s[0]+printn(s[1:],n)\n",
        "\n",
        "s=\"abc\"\n",
        "n=3\n",
        "printn(s,n)"
      ],
      "metadata": {
        "colab": {
          "base_uri": "https://localhost:8080/",
          "height": 36
        },
        "id": "k1qoEpbAaZdV",
        "outputId": "a52013f5-7591-464e-8e56-dcd7546a2479"
      },
      "execution_count": 8,
      "outputs": [
        {
          "output_type": "execute_result",
          "data": {
            "text/plain": [
              "'aaabbbccc'"
            ],
            "application/vnd.google.colaboratory.intrinsic+json": {
              "type": "string"
            }
          },
          "metadata": {},
          "execution_count": 8
        }
      ]
    },
    {
      "cell_type": "code",
      "source": [
        "#reverse words in given string\n",
        "def revstr(n):\n",
        "# Split the sentence into words\n",
        "  words = n.split()\n",
        "\n",
        "  # Reverse the list of words\n",
        "  reversed_words = words[::-1] #(['world', 'hello'])\n",
        "  #print(reversed_words)\n",
        "\n",
        "  # Join the reversed words back into a string\n",
        "  reversed_sentence = ' '.join(reversed_words)\n",
        "\n",
        "  return reversed_sentence\n",
        "\n",
        "n='hello world'\n",
        "revstr(n)"
      ],
      "metadata": {
        "colab": {
          "base_uri": "https://localhost:8080/",
          "height": 36
        },
        "id": "-TWuOK3Zc-g6",
        "outputId": "1e1e1742-e608-4612-898e-e06f55b38c5f"
      },
      "execution_count": 21,
      "outputs": [
        {
          "output_type": "execute_result",
          "data": {
            "text/plain": [
              "'world hello'"
            ],
            "application/vnd.google.colaboratory.intrinsic+json": {
              "type": "string"
            }
          },
          "metadata": {},
          "execution_count": 21
        }
      ]
    },
    {
      "cell_type": "code",
      "source": [
        "#top k frequent elements\n",
        "from collections import Counter\n",
        "def topkf(nums,k):\n",
        "  # Count the frequency of each element in the list\n",
        "  frequency_count = Counter(nums)\n",
        "\n",
        "  # Get the k most common elements\n",
        "  top_k_elements = frequency_count.most_common(k)\n",
        "\n",
        "  # Extract only the elements, not their counts\n",
        "  return [element for element, count in top_k_elements]\n",
        "\n",
        "nums=[1,1,1,2,2,3]\n",
        "k=2\n",
        "topkf(nums,k)"
      ],
      "metadata": {
        "colab": {
          "base_uri": "https://localhost:8080/"
        },
        "id": "oIzwp66TgzyP",
        "outputId": "2cad0b41-0d3f-4f77-ff77-8ac8801d2a5b"
      },
      "execution_count": 24,
      "outputs": [
        {
          "output_type": "execute_result",
          "data": {
            "text/plain": [
              "[1, 2]"
            ]
          },
          "metadata": {},
          "execution_count": 24
        }
      ]
    },
    {
      "cell_type": "code",
      "source": [
        "def topKFrequent(nums, k):\n",
        "  base_dict=dict()\n",
        "  temp_set=set()\n",
        "  for i in nums:\n",
        "      if i in base_dict:\n",
        "          base_dict[i]+=1\n",
        "          if base_dict[i]>=k:\n",
        "              temp_set.add(i)\n",
        "      else:\n",
        "          base_dict[i]=1\n",
        "  return list(temp_set)\n",
        "\n",
        "nums=[1]\n",
        "k=1\n",
        "topKFrequent(nums,k)"
      ],
      "metadata": {
        "colab": {
          "base_uri": "https://localhost:8080/"
        },
        "id": "w_A1apcNiORr",
        "outputId": "8be99c21-835e-4729-bfbb-b2b22fd2a7d7"
      },
      "execution_count": 27,
      "outputs": [
        {
          "output_type": "execute_result",
          "data": {
            "text/plain": [
              "[]"
            ]
          },
          "metadata": {},
          "execution_count": 27
        }
      ]
    }
  ]
}