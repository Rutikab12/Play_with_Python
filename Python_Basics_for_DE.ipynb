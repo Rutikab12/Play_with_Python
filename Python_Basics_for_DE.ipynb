{
  "nbformat": 4,
  "nbformat_minor": 0,
  "metadata": {
    "colab": {
      "provenance": [],
      "collapsed_sections": [
        "yBlslpKWfQp1",
        "qbWkq15L4hyY",
        "zChf7aCe4m4X",
        "sMWya-NZ4cmC",
        "YRZhzDmb7DA3",
        "YqqLp_9iCljT",
        "MZmS7gG0eage"
      ],
      "toc_visible": true,
      "authorship_tag": "ABX9TyOE/+XyknWNrigQClNRmDeD",
      "include_colab_link": true
    },
    "kernelspec": {
      "name": "python3",
      "display_name": "Python 3"
    },
    "language_info": {
      "name": "python"
    }
  },
  "cells": [
    {
      "cell_type": "markdown",
      "metadata": {
        "id": "view-in-github",
        "colab_type": "text"
      },
      "source": [
        "<a href=\"https://colab.research.google.com/github/Rutikab12/Play_with_Python/blob/main/Python_Basics_for_DE.ipynb\" target=\"_parent\"><img src=\"https://colab.research.google.com/assets/colab-badge.svg\" alt=\"Open In Colab\"/></a>"
      ]
    },
    {
      "cell_type": "markdown",
      "source": [
        "#Dictionary in Python\n",
        "it is an unordered collection of elements.\n",
        "Used to store values like map.\n",
        "\n",
        "\n",
        "Unlike other datatype which hold\n",
        "only single values, dictionary have 'key:value' pairs.\n",
        "where\n",
        "\n",
        "key: is single value\n",
        "\n",
        "value: can be list,list within list,numbers, etc"
      ],
      "metadata": {
        "id": "um8ZHkGmXU0C"
      }
    },
    {
      "cell_type": "code",
      "source": [
        "#Dictionary Methods\n",
        "\n",
        "#initialize empty dict\n",
        "empt_dict={}\n",
        "print(type(empt_dict))\n",
        "\n",
        "#dict of list of tuples\n",
        "dict1=dict([(1,'a'),(2,'b')])\n",
        "print(dict1)\n",
        "\n",
        "#update the value in dict\n",
        "dict2={'Name':'Rutik','Class':'A','Age':32}\n",
        "dict2['Name']='Ankit'\n",
        "print(dict2)\n",
        "\n",
        "#add a new value to dict\n",
        "dict2['Address']='Pune'\n",
        "print(dict2)\n",
        "\n",
        "#delete the value\n",
        "del dict2['Address']\n",
        "print(dict2)\n",
        "\n",
        "#pop\n",
        "dict2.pop('Name')\n",
        "print(dict2)\n",
        "\n",
        "#popitem\n",
        "dict2.popitem() #pop from start one by one\n",
        "print(dict2)\n",
        "\n",
        "#clear whole dict\n",
        "dict2.clear()\n",
        "print(dict2)\n"
      ],
      "metadata": {
        "colab": {
          "base_uri": "https://localhost:8080/"
        },
        "id": "R38zsgvPXVT2",
        "outputId": "471ee643-1727-4706-bbb0-b7c8d8b4dba2"
      },
      "execution_count": null,
      "outputs": [
        {
          "output_type": "stream",
          "name": "stdout",
          "text": [
            "<class 'dict'>\n",
            "{1: 'a', 2: 'b'}\n",
            "{'Name': 'Ankit', 'Class': 'A', 'Age': 32}\n",
            "{'Name': 'Ankit', 'Class': 'A', 'Age': 32, 'Address': 'Pune'}\n",
            "{'Name': 'Ankit', 'Class': 'A', 'Age': 32}\n",
            "{'Class': 'A', 'Age': 32}\n",
            "{'Class': 'A'}\n",
            "{}\n"
          ]
        }
      ]
    },
    {
      "cell_type": "markdown",
      "source": [
        "# Sets in Python\n",
        "\n",
        "set is an unordered collection of items.\n",
        "\n",
        "No duplicates.\n",
        "\n",
        "Sets can be used to perform mathematical set operations like union,intersection,symmetric difference,etc.\n",
        "\n",
        "It is Mutable."
      ],
      "metadata": {
        "id": "4Df4luyneCp9"
      }
    },
    {
      "cell_type": "code",
      "execution_count": null,
      "metadata": {
        "colab": {
          "base_uri": "https://localhost:8080/"
        },
        "id": "DgclBtgzn8d7",
        "outputId": "d2052ec0-bf15-4212-fe60-f045b132403d"
      },
      "outputs": [
        {
          "output_type": "stream",
          "name": "stdout",
          "text": [
            "None\n",
            "None\n",
            "None\n",
            "None\n",
            "1\n"
          ]
        }
      ],
      "source": [
        "#emptyset\n",
        "\n",
        "empty=set() #dtype:set\n",
        "\n",
        "empty={} #dtype:dict\n",
        "\n",
        "#add and update\n",
        "\n",
        "set1={'python','java'}\n",
        "\n",
        "print(set1.add('c++'))\n",
        "\n",
        "#add → only adds one element at a time\n",
        "\n",
        "set2={1,2,3}\n",
        "\n",
        "print(set2.update({4,5,6}))\n",
        "\n",
        "#update → can add multiple elements at at time\n",
        "\n",
        "#remove\n",
        "\n",
        "set2={1,2,3,4,5,6}\n",
        "\n",
        "print(set2.remove(1))\n",
        "\n",
        "#if I tried to remove element not present in set it gives key_Error.\n",
        "\n",
        "#discard\n",
        "\n",
        "set1={'py','java','c++'}\n",
        "\n",
        "print(set1.discard('py'))\n",
        "\n",
        "#if I tried remove element not present in set, it won;t give error.\n",
        "\n",
        "#pop\n",
        "\n",
        "set3={1,2,3,4,5,6}\n",
        "\n",
        "print(set3.pop())\n",
        "\n",
        "#it remove any random element from set\n",
        "\n",
        "#clear\n",
        "\n",
        "set3.clear()\n",
        "\n",
        "#it clears whole set"
      ]
    },
    {
      "cell_type": "code",
      "source": [
        "set1={1,2,3,4,4}\n",
        "\n",
        "set2={4,5,6}\n",
        "\n",
        "#set union\n",
        "print(set1.union(set2)) #gives only unique elements\n",
        "\n",
        "print(set1 | set2)\n",
        "\n",
        "#set intersection\n",
        "print(set1.intersection(set2))\n",
        "print(set1 & set2)\n",
        "\n",
        "#set difference\n",
        "print(set1.difference(set2))\n",
        "print(set2-set1)\n",
        "\n",
        "#set symmetric difference\n",
        "print(set1.symmetric_difference(set2))\n",
        "print(set1 ^ set2)\n",
        "\n",
        "#set subset\n",
        "set3={'a','b','c'}\n",
        "set4={'f','e','d','c','b'}\n",
        "z=set3.issubset(set4)\n",
        "print(z)"
      ],
      "metadata": {
        "colab": {
          "base_uri": "https://localhost:8080/"
        },
        "id": "DIzEAfdjpmz9",
        "outputId": "b9f39314-4799-40fd-acee-e2e1a2e87096",
        "collapsed": true
      },
      "execution_count": null,
      "outputs": [
        {
          "output_type": "stream",
          "name": "stdout",
          "text": [
            "{1, 2, 3, 4}\n",
            "{1, 2, 3, 4, 5, 6}\n",
            "{1, 2, 3, 4, 5, 6}\n",
            "{4}\n",
            "{4}\n",
            "{1, 2, 3}\n",
            "{5, 6}\n",
            "{1, 2, 3, 5, 6}\n",
            "{1, 2, 3, 5, 6}\n",
            "False\n"
          ]
        }
      ]
    },
    {
      "cell_type": "markdown",
      "source": [
        "#frozen sets\n",
        "\n",
        "Frozen is quite relatable with tuple\n",
        "\n",
        "It is immutable.\n",
        "Can be created using frozenset().\n",
        "Does not support indexing\n",
        "Set cannot be used as a key in dictionary but frozen set can."
      ],
      "metadata": {
        "id": "yBlslpKWfQp1"
      }
    },
    {
      "cell_type": "code",
      "source": [
        "#forzen set\n",
        "nu=(1,2,3,4,5,6,7,8,9)\n",
        "fnum=frozenset(nu) #converting tuple to frozenset\n",
        "print(fnum)\n",
        "\n",
        "#adding elements , will give attribute error\n",
        "se=frozenset([10,20,30])\n",
        "#se.add(90)\n",
        "\n",
        "#frozen set can be used as a key in dict\n",
        "Student={'name':'Ankit','age':'21','sex':'M'}\n",
        "key=frozenset(Student)\n",
        "print(key)\n",
        "\n",
        "#does not support indxing, hence give typerror\n",
        "#se[1]=90"
      ],
      "metadata": {
        "colab": {
          "base_uri": "https://localhost:8080/"
        },
        "id": "S335lwdpflyg",
        "outputId": "e6afe06a-f25d-4460-8d2f-9d27d28126c9"
      },
      "execution_count": null,
      "outputs": [
        {
          "output_type": "stream",
          "name": "stdout",
          "text": [
            "frozenset({1, 2, 3, 4, 5, 6, 7, 8, 9})\n",
            "frozenset({'name', 'sex', 'age'})\n"
          ]
        }
      ]
    },
    {
      "cell_type": "markdown",
      "source": [
        "#Patterns Problem"
      ],
      "metadata": {
        "id": "qbWkq15L4hyY"
      }
    },
    {
      "cell_type": "code",
      "source": [
        "#Patterns using for-\n",
        "#row-column needs to be identified in this cases, first try to implement it row wise and then column wise.\n",
        "\n",
        "'''1.star pattern\n",
        "eg: * * * * * *\n",
        "    * * * * * *\n",
        "    * * * * * *\n",
        "'''\n",
        "for row in range(1,6):\n",
        "  print(end='\\n')  #we can use print() only\n",
        "  for column in range(1,6):\n",
        "    print('*',end=' ')  #end to print in same line\n"
      ],
      "metadata": {
        "colab": {
          "base_uri": "https://localhost:8080/"
        },
        "id": "8OzB99l2iEMi",
        "outputId": "4e33fcb1-a131-4b98-eb28-466963670a0a"
      },
      "execution_count": null,
      "outputs": [
        {
          "output_type": "stream",
          "name": "stdout",
          "text": [
            "\n",
            "* * * * * \n",
            "* * * * * \n",
            "* * * * * \n",
            "* * * * * \n",
            "* * * * * "
          ]
        }
      ]
    },
    {
      "cell_type": "code",
      "source": [
        "#2.Traingle Pattern\n",
        "'''\n",
        "*\n",
        "* *\n",
        "* * *\n",
        "* * * *\n",
        "* * * * *\n",
        "'''\n",
        "#just add row+1 to get no of stars similar to row_numbers\n",
        "for row in range(1,6):\n",
        "  print(end='\\n')\n",
        "  for column in range(1,row+1):\n",
        "    print('*',end=' ')\n"
      ],
      "metadata": {
        "id": "Hf_45ujIsq7v",
        "colab": {
          "base_uri": "https://localhost:8080/"
        },
        "collapsed": true,
        "outputId": "e52e15d3-b644-41d4-a707-477c056a0058"
      },
      "execution_count": null,
      "outputs": [
        {
          "output_type": "stream",
          "name": "stdout",
          "text": [
            "\n",
            "* \n",
            "* * \n",
            "* * * \n",
            "* * * * \n",
            "* * * * * "
          ]
        }
      ]
    },
    {
      "cell_type": "code",
      "source": [
        "#3. Triangle Pattern\n",
        "'''\n",
        "* * * * *\n",
        "* * * *\n",
        "* * *\n",
        "* *\n",
        "*\n",
        "'''\n",
        "for row in range(6,0,-1):\n",
        "  print(end='\\n')\n",
        "  for column in range(1,row+1):\n",
        "    print('*',end=' ')"
      ],
      "metadata": {
        "colab": {
          "base_uri": "https://localhost:8080/"
        },
        "collapsed": true,
        "id": "rVCZbyvDp_Qc",
        "outputId": "6839b7a1-6fa6-45cf-c8a0-243274dcc3df"
      },
      "execution_count": null,
      "outputs": [
        {
          "output_type": "stream",
          "name": "stdout",
          "text": [
            "\n",
            "* * * * * * \n",
            "* * * * * \n",
            "* * * * \n",
            "* * * \n",
            "* * \n",
            "* "
          ]
        }
      ]
    },
    {
      "cell_type": "code",
      "source": [
        "#4.Printing Pattern by some stepsize\n",
        "'''\n",
        "**\n",
        "****\n",
        "******\n",
        "'''\n",
        "for row in range(1,6,2):\n",
        "  print(end='\\n')\n",
        "  for column in range(1,row+1):\n",
        "    print('*',end=' ')"
      ],
      "metadata": {
        "colab": {
          "base_uri": "https://localhost:8080/"
        },
        "collapsed": true,
        "id": "qs8kFV_9rrtd",
        "outputId": "9731a38a-248a-47ca-c690-14099b6283f2"
      },
      "execution_count": null,
      "outputs": [
        {
          "output_type": "stream",
          "name": "stdout",
          "text": [
            "\n",
            "* \n",
            "* * * \n",
            "* * * * * "
          ]
        }
      ]
    },
    {
      "cell_type": "code",
      "source": [
        "#5.Pattern Pyrami\n",
        "'''\n",
        "*\n",
        "* *\n",
        "* * *\n",
        "* * * *\n",
        "* * * * *\n",
        "'''\n",
        "num=int(input('Enter no of rows: '))\n",
        "for row in range(1,num):\n",
        "  print(end='\\n')\n",
        "  for column in range(1,row+1):\n",
        "    print('*',end=' ')\n",
        "  print()\n",
        "\n",
        "#for pyramid structure we use same logic as we need space 3,2,1,0\n",
        "for row in range(1,num+1):\n",
        "  for j in range(1,num-row+1):\n",
        "    print(end=' ')\n",
        "  for column in range(1,row+1):\n",
        "    print('*',end=' ')\n",
        "  print()"
      ],
      "metadata": {
        "colab": {
          "base_uri": "https://localhost:8080/"
        },
        "collapsed": true,
        "id": "LqTpTC2xSN14",
        "outputId": "4ad274f1-4abd-4525-e02e-bd2ba7b94001"
      },
      "execution_count": null,
      "outputs": [
        {
          "output_type": "stream",
          "name": "stdout",
          "text": [
            "Enter no of rows: 6\n",
            "\n",
            "* \n",
            "\n",
            "* * \n",
            "\n",
            "* * * \n",
            "\n",
            "* * * * \n",
            "\n",
            "* * * * * \n",
            "     * \n",
            "    * * \n",
            "   * * * \n",
            "  * * * * \n",
            " * * * * * \n",
            "* * * * * * \n"
          ]
        }
      ]
    },
    {
      "cell_type": "code",
      "source": [
        "#Patter : Inverted Traingle\n",
        "num=int(input('Enter no of rows: '))\n",
        "for row in range(num,0,-1):\n",
        "  for j in range(1,num-row+1):\n",
        "    print(end=' ')\n",
        "  for column in range(1,row+1):\n",
        "    print('*',end=' ')\n",
        "  print()"
      ],
      "metadata": {
        "colab": {
          "base_uri": "https://localhost:8080/"
        },
        "collapsed": true,
        "id": "iEquhBTIVctS",
        "outputId": "3a542bf3-351f-486a-860d-81b7616bb414"
      },
      "execution_count": null,
      "outputs": [
        {
          "output_type": "stream",
          "name": "stdout",
          "text": [
            "Enter no of rows: 6\n",
            "* * * * * * \n",
            " * * * * * \n",
            "  * * * * \n",
            "   * * * \n",
            "    * * \n",
            "     * \n"
          ]
        }
      ]
    },
    {
      "cell_type": "markdown",
      "source": [
        "#LeetCode Basics"
      ],
      "metadata": {
        "id": "zChf7aCe4m4X"
      }
    },
    {
      "cell_type": "code",
      "source": [
        "#LeetCode: Count no of digits\n",
        "def evenlyDivides (self, N):\n",
        "        # code here\n",
        "        dup = N\n",
        "        i = 0\n",
        "        while N != 0:\n",
        "            last_digit = N % 10\n",
        "            if last_digit != 0 and dup % last_digit == 0:\n",
        "                i += 1\n",
        "            N = N // 10\n",
        "        return i"
      ],
      "metadata": {
        "id": "TohChBT50GDP"
      },
      "execution_count": null,
      "outputs": []
    },
    {
      "cell_type": "code",
      "source": [
        "#LeetCode: Reverse the Number\n",
        "def reverse(self, x: int) -> int:\n",
        "        sign = -1 if x < 0 else 1\n",
        "        x *= sign\n",
        "        revNum=0\n",
        "        while x>0:\n",
        "            last_digit=x%10\n",
        "            revNum=revNum*10+last_digit\n",
        "            x=x//10\n",
        "        revNum *= sign\n",
        "        if revNum > 2 ** 31 - 1 or revNum < -2 ** 31:\n",
        "            return 0\n",
        "        return revNum\n",
        "#first check the number is +ve or -ve\n",
        "#then do logic part\n",
        "#come out of while loop and again check size of number and then return it."
      ],
      "metadata": {
        "id": "57_IHWQVxRCI"
      },
      "execution_count": null,
      "outputs": []
    },
    {
      "cell_type": "code",
      "source": [
        "#LeetCode: Palindrome Number or not\n",
        "def isPalindrome(self, x: int) -> bool:\n",
        "        sign = -1 if x < 0 else 1\n",
        "        x *= sign\n",
        "        dup = x\n",
        "        revNum=0\n",
        "        while x>0:\n",
        "            last_digit=x%10\n",
        "            revNum=revNum*10+last_digit\n",
        "            x=x//10\n",
        "        revNum *= sign\n",
        "        if revNum > 2 ** 31 - 1 or revNum < -2 ** 31:\n",
        "            return 0\n",
        "        if revNum==dup:\n",
        "            return True\n",
        "        return False\n"
      ],
      "metadata": {
        "id": "wjjCtiIHxn4D"
      },
      "execution_count": null,
      "outputs": []
    },
    {
      "cell_type": "code",
      "source": [
        "#LeetCode: Armstrong number or not\n",
        "def armstrongNumber (n):\n",
        "        # calc no of digits first\n",
        "        k=len(str(n))\n",
        "        dup=n\n",
        "        #initialize sum=0\n",
        "        sum=0\n",
        "        while n!=0:\n",
        "            last_digit=n%10\n",
        "            sum=sum+(last_digit**k)\n",
        "            n=n//10\n",
        "        if sum==dup:\n",
        "            return True\n",
        "        else:\n",
        "            return False\n",
        "armstrongNumber(153)"
      ],
      "metadata": {
        "colab": {
          "base_uri": "https://localhost:8080/"
        },
        "id": "fhjqXjYf0Yns",
        "outputId": "5e2df41c-1fc7-4d79-9f10-bb6378936057",
        "collapsed": true
      },
      "execution_count": null,
      "outputs": [
        {
          "output_type": "execute_result",
          "data": {
            "text/plain": [
              "True"
            ]
          },
          "metadata": {},
          "execution_count": 10
        }
      ]
    },
    {
      "cell_type": "code",
      "source": [
        "#LeetCode :Length of Last Word\n",
        "def lengthOfLastWord(s):\n",
        "  #first elimnate the white spaces\n",
        "  s=s.strip()\n",
        "  #split the string with space or any character\n",
        "  strList=s.split(\" \")\n",
        "  #take out last work in that list\n",
        "  last_word=strList[-1]\n",
        "  #measure its size and return\n",
        "  size=len(last_word)\n",
        "  return size\n",
        "\n",
        "lengthOfLastWord('Hello World')"
      ],
      "metadata": {
        "colab": {
          "base_uri": "https://localhost:8080/"
        },
        "collapsed": true,
        "id": "64rbeNVKvv94",
        "outputId": "2b93cc20-e7e2-422c-baae-65846cca06ba"
      },
      "execution_count": null,
      "outputs": [
        {
          "output_type": "execute_result",
          "data": {
            "text/plain": [
              "5"
            ]
          },
          "metadata": {},
          "execution_count": 24
        }
      ]
    },
    {
      "cell_type": "code",
      "source": [
        "#Find fibonacci\n",
        "'''\n",
        "0,1,1,2,3,5,8,13,21,34,55,89  --number series\n",
        "---------------------------\n",
        "0,1,2,3,4,5,6,7,8,9,10,11  --index\n",
        "'''\n",
        "def fib(n):\n",
        "  if n==0 or n==1:\n",
        "    return n\n",
        "  else:\n",
        "    return fib(n-1)+fib(n-2)\n",
        "fib(10)"
      ],
      "metadata": {
        "colab": {
          "base_uri": "https://localhost:8080/"
        },
        "collapsed": true,
        "id": "lLlx11Vc10Wz",
        "outputId": "0c822fab-06e4-4ca3-88c1-b0e3832b4656"
      },
      "execution_count": null,
      "outputs": [
        {
          "output_type": "execute_result",
          "data": {
            "text/plain": [
              "55"
            ]
          },
          "metadata": {},
          "execution_count": 26
        }
      ]
    },
    {
      "cell_type": "markdown",
      "source": [
        "#Bubble Sort"
      ],
      "metadata": {
        "id": "sMWya-NZ4cmC"
      }
    },
    {
      "cell_type": "code",
      "source": [
        "#if any sorted array comes,use swapped variable with this TOC: O(n) not O(n2)\n",
        "def bubble_sort(nums):\n",
        "  n=len(nums)\n",
        "  for i in range(n-1):\n",
        "    swapped=False\n",
        "    for j in range(n-i-1):\n",
        "      if nums[j]>nums[j+1]:\n",
        "        nums[j],nums[j+1]=nums[j+1],nums[j]\n",
        "        swapped=True\n",
        "    if swapped==False:\n",
        "      break\n",
        "  return nums\n",
        "\n",
        "nums=[2,4,6]\n",
        "#nums=[13,46,24,52,20,9]\n",
        "print(bubble_sort(nums))"
      ],
      "metadata": {
        "id": "ptrN4OCQ2Qx8",
        "colab": {
          "base_uri": "https://localhost:8080/"
        },
        "outputId": "574f3534-567e-4571-bfe0-0e4fb0a8d025"
      },
      "execution_count": null,
      "outputs": [
        {
          "output_type": "stream",
          "name": "stdout",
          "text": [
            "[2, 4, 6]\n"
          ]
        }
      ]
    },
    {
      "cell_type": "code",
      "source": [
        "#sorting dict with bubble sort\n",
        "def bubble_sort(elements,key=None):\n",
        "  n=len(elements)\n",
        "  for i in range(n-1):\n",
        "    swapped=False\n",
        "    for j in range(n-1-i):\n",
        "      a=elements[j][key]\n",
        "      b=elements[j+1][key]\n",
        "      if a>b:\n",
        "        elements[j],elements[j+1]=elements[j+1],elements[j]\n",
        "        swapped=True\n",
        "    if swapped==False:\n",
        "      break\n",
        "    return elements\n",
        "\n",
        "\n",
        "elements = [\n",
        "        { 'name': 'mona',   'transaction_amount': 1000, 'device': 'iphone-10'},\n",
        "        { 'name': 'dhaval', 'transaction_amount': 400,  'device': 'google pixel'},\n",
        "        { 'name': 'kathy',  'transaction_amount': 200,  'device': 'vivo'},\n",
        "        { 'name': 'aamir',  'transaction_amount': 800,  'device': 'iphone-8'},\n",
        "    ]\n",
        "print(bubble_sort(elements,key='transaction_amount'))\n"
      ],
      "metadata": {
        "colab": {
          "base_uri": "https://localhost:8080/"
        },
        "id": "gh0lSsrR4wgX",
        "outputId": "1e28d251-a5c4-489c-b66a-fc0787724679"
      },
      "execution_count": null,
      "outputs": [
        {
          "output_type": "stream",
          "name": "stdout",
          "text": [
            "[{'name': 'dhaval', 'transaction_amount': 400, 'device': 'google pixel'}, {'name': 'kathy', 'transaction_amount': 200, 'device': 'vivo'}, {'name': 'aamir', 'transaction_amount': 800, 'device': 'iphone-8'}, {'name': 'mona', 'transaction_amount': 1000, 'device': 'iphone-10'}]\n"
          ]
        }
      ]
    },
    {
      "cell_type": "markdown",
      "source": [
        "#Insertion Sort"
      ],
      "metadata": {
        "id": "YRZhzDmb7DA3"
      }
    },
    {
      "cell_type": "code",
      "source": [
        "#sorting array with insertion sort\n",
        "def insertion_sort(nums):\n",
        "  n=len(nums)\n",
        "  for i in range(1,n):\n",
        "    key=nums[i]\n",
        "    j=i\n",
        "    while j>0 and nums[j-1]>key:\n",
        "      nums[j]=nums[j-1]\n",
        "      j=j-1\n",
        "    nums[j]=key\n",
        "  return nums\n",
        "\n",
        "nums=[13,46,24,52,20,9]\n",
        "print(insertion_sort(nums))"
      ],
      "metadata": {
        "colab": {
          "base_uri": "https://localhost:8080/"
        },
        "id": "j3XZhHGl7FpS",
        "outputId": "46264ace-52d6-4c98-df97-3d05699450a4"
      },
      "execution_count": null,
      "outputs": [
        {
          "output_type": "stream",
          "name": "stdout",
          "text": [
            "[9, 13, 20, 24, 46, 52]\n"
          ]
        }
      ]
    },
    {
      "cell_type": "markdown",
      "source": [
        "#LeetCode Solved on 01/08/2024\n",
        "1. Reverse a String 344\n",
        "2. Reverse Vowels of a String 345"
      ],
      "metadata": {
        "id": "YqqLp_9iCljT"
      }
    },
    {
      "cell_type": "code",
      "source": [
        "def reverseString(s):\n",
        "  l=0\n",
        "  r=len(s)-1\n",
        "  while l<r:\n",
        "      s[r],s[l]=s[l],s[r]\n",
        "      r=r-1\n",
        "      l=l+1\n",
        "  return s\n",
        "  #s.reverse() --simplest way possible\n",
        "\n",
        "s=[\"h\",\"e\",\"l\",\"l\",\"o\"]\n",
        "print(reverseString(s))"
      ],
      "metadata": {
        "colab": {
          "base_uri": "https://localhost:8080/"
        },
        "id": "ewbJJy9NCvO2",
        "outputId": "a56abfc4-f860-4970-c220-76295820294f"
      },
      "execution_count": null,
      "outputs": [
        {
          "output_type": "stream",
          "name": "stdout",
          "text": [
            "['o', 'l', 'l', 'e', 'h']\n"
          ]
        }
      ]
    },
    {
      "cell_type": "code",
      "source": [
        "def reverseVowels(s):\n",
        "  chars = list(s) #splits list into characters/letters\n",
        "  kVowels = 'aeiouAEIOU'\n",
        "  l = 0\n",
        "  r = len(s) - 1\n",
        "\n",
        "  while l < r:\n",
        "    while l < r and chars[l] not in kVowels:\n",
        "      l += 1\n",
        "    while l < r and chars[r] not in kVowels:\n",
        "      r -= 1\n",
        "    chars[l], chars[r] = chars[r], chars[l]\n",
        "    l += 1\n",
        "    r -= 1\n",
        "\n",
        "  return ''.join(chars)  #joins that letter without space\n",
        "\n",
        "s=\"hello\"\n",
        "print(reverseVowels(s))"
      ],
      "metadata": {
        "colab": {
          "base_uri": "https://localhost:8080/"
        },
        "id": "yNZXeukdESB1",
        "outputId": "9ea1a48b-c969-4272-cc57-ea7c45622f40"
      },
      "execution_count": null,
      "outputs": [
        {
          "output_type": "stream",
          "name": "stdout",
          "text": [
            "holle\n"
          ]
        }
      ]
    },
    {
      "cell_type": "markdown",
      "source": [
        "#LeetCode Solved on 02/08/2024\n",
        "\n",
        "1. 283 - Moves Zeros\n",
        "2. 121 - Best time to Buy and Sell Stocks\n",
        "3. Normal - Max element in the list\n",
        "4. Normal - Count occurence of number in list\n",
        "5. Normal - Check if sum of any tow numbers is zero or not"
      ],
      "metadata": {
        "id": "eW-vau6KgUls"
      }
    },
    {
      "cell_type": "code",
      "source": [
        "#solution using swap method and initializing two pointers at same index\n",
        "def moveZeroes(nums):\n",
        "  l=0\n",
        "  n=len(nums)\n",
        "  for i in range(0,n):\n",
        "      if nums[i]!=0:\n",
        "          hold = nums[l]\n",
        "          nums[l]=nums[i]\n",
        "          nums[i]=hold\n",
        "          l=l+1\n",
        "  return nums\n",
        "\n",
        "nums=[0,1,0,3,12]\n",
        "print(moveZeroes(nums))"
      ],
      "metadata": {
        "colab": {
          "base_uri": "https://localhost:8080/"
        },
        "id": "UzPPVIKqgce-",
        "outputId": "79d583a4-2cea-4d8b-91b9-ddbb9284abec"
      },
      "execution_count": null,
      "outputs": [
        {
          "output_type": "stream",
          "name": "stdout",
          "text": [
            "[1, 3, 12, 0, 0]\n"
          ]
        }
      ]
    },
    {
      "cell_type": "code",
      "source": [
        "#solution using first index as buy_price and then compare each day price and update the profit\n",
        "def maxProfit(prices):\n",
        "  #set min to infinity\n",
        "  # min_price=float('inf')\n",
        "  # max_profit=0\n",
        "  # for price in prices:\n",
        "  #     min_price=min(min_price,price)#this will take min in whole list and compare\n",
        "  #     max_profit=max(max_profit,price-min_price)\n",
        "  # return max_profit\n",
        "  buy_price = prices[0]\n",
        "  profit = 0\n",
        "\n",
        "  for p in prices[1:]:\n",
        "      if buy_price > p:\n",
        "          buy_price = p\n",
        "\n",
        "      profit = max(profit, p - buy_price)\n",
        "\n",
        "  return profit\n",
        "\n",
        "prices=[7,1,5,3,6,4]\n",
        "print(maxProfit(prices))"
      ],
      "metadata": {
        "colab": {
          "base_uri": "https://localhost:8080/"
        },
        "id": "gGpXlXagof9T",
        "outputId": "c4d440d2-5ae9-444c-8ce6-6745bd974be3"
      },
      "execution_count": null,
      "outputs": [
        {
          "output_type": "stream",
          "name": "stdout",
          "text": [
            "5\n"
          ]
        }
      ]
    },
    {
      "cell_type": "code",
      "source": [
        "#initialize first element as max and traverse the list\n",
        "def max_list(num):\n",
        "  max=num[0]\n",
        "  for i in range(len(num)):\n",
        "    if num[i]>max:\n",
        "      max=num[i]\n",
        "  return max\n",
        "  # max_ele=max(num)\n",
        "  # return max_ele\n",
        "\n",
        "num=[1,2,3,4,5,6]\n",
        "print(max_list(num))"
      ],
      "metadata": {
        "colab": {
          "base_uri": "https://localhost:8080/"
        },
        "id": "jmfY6ZD3DZPq",
        "outputId": "279fa138-f4c8-4041-d947-2924853de60f"
      },
      "execution_count": null,
      "outputs": [
        {
          "output_type": "stream",
          "name": "stdout",
          "text": [
            "6\n"
          ]
        }
      ]
    },
    {
      "cell_type": "code",
      "source": [
        "#first initialize a counter and update  when its matches with the element we are counting\n",
        "def count_num(nums,target):\n",
        "  count=0\n",
        "  for i in range(len(nums)):\n",
        "    if nums[i]==target:\n",
        "      count=count+1\n",
        "  return count\n",
        "\n",
        "nums=[1,2,5,4,5,6]\n",
        "target=5\n",
        "print(count_num(nums,target))"
      ],
      "metadata": {
        "colab": {
          "base_uri": "https://localhost:8080/"
        },
        "id": "2kzk1TsYE23R",
        "outputId": "d9973e4e-c338-4175-876e-2ce37eb1111c"
      },
      "execution_count": null,
      "outputs": [
        {
          "output_type": "stream",
          "name": "stdout",
          "text": [
            "2\n"
          ]
        }
      ]
    },
    {
      "cell_type": "code",
      "source": [
        "#check if some of tow numbers is zero or not\n",
        "def check_zero(nums):\n",
        " if len(nums)<2:\n",
        "  return False\n",
        " l1=set(nums)\n",
        " for i in nums: #traverse list\n",
        "  if -i in l1: #then check for any -ve number and if found return result\n",
        "    return True\n",
        " return False\n",
        "\n",
        "\n",
        "nums=[1,2,3,4,5,-1]\n",
        "print(check_zero(nums))"
      ],
      "metadata": {
        "colab": {
          "base_uri": "https://localhost:8080/"
        },
        "id": "7vP--t0TKnny",
        "outputId": "5e47388e-a59f-498d-d75c-d976061ed245"
      },
      "execution_count": null,
      "outputs": [
        {
          "output_type": "stream",
          "name": "stdout",
          "text": [
            "True\n"
          ]
        }
      ]
    },
    {
      "cell_type": "markdown",
      "source": [
        "#LeetCode Problems Solved on 03-08-2024\n",
        "\n",
        "1. Normal - find a non-negative integer that is not in the array\n",
        "2. 1207 - Unique Number of Occurrences\n",
        "3. Number of items in list using recursion\n"
      ],
      "metadata": {
        "id": "MZmS7gG0eage"
      }
    },
    {
      "cell_type": "code",
      "source": [
        "#first declare a dict() where u will store all elements\n",
        "#then check whether element is in dict or not , if not then return None and display that element\n",
        "#use two loop\n",
        "\n",
        "def check_non(list):\n",
        "  dict={}\n",
        "  for i in range(len(list)):\n",
        "    dict[list[i]]=i\n",
        "    print(dict)\n",
        "  for i in range(len(list)):\n",
        "    if i not in dict:\n",
        "      return i\n",
        "\n",
        "list=[0,1,3,4,5,6]\n",
        "print(check_non(list))"
      ],
      "metadata": {
        "colab": {
          "base_uri": "https://localhost:8080/"
        },
        "id": "eQHyuOO2eops",
        "outputId": "cd06b71f-774b-49d7-a22b-28aaab7dd120"
      },
      "execution_count": 2,
      "outputs": [
        {
          "output_type": "stream",
          "name": "stdout",
          "text": [
            "{0: 0}\n",
            "{0: 0, 1: 1}\n",
            "{0: 0, 1: 1, 3: 2}\n",
            "{0: 0, 1: 1, 3: 2, 4: 3}\n",
            "{0: 0, 1: 1, 3: 2, 4: 3, 5: 4}\n",
            "{0: 0, 1: 1, 3: 2, 4: 3, 5: 4, 6: 5}\n",
            "2\n"
          ]
        }
      ]
    },
    {
      "cell_type": "code",
      "source": [
        "def uniqueOccurrences(arr):\n",
        "  y=[]\n",
        "  res=[]\n",
        "  for i in range(len(arr)):\n",
        "      if arr[i] not in y:\n",
        "          y.append(arr[i])\n",
        "          #print('y',y)\n",
        "          x=arr.count(arr[i])\n",
        "          #print('value',x)\n",
        "          if x in res:\n",
        "              return False\n",
        "          else:\n",
        "              res.append(x)\n",
        "              #print('res',res)\n",
        "  return True\n",
        "\n",
        "arr=[1,2,2,1,1,3]\n",
        "print(uniqueOccurrences(arr))"
      ],
      "metadata": {
        "colab": {
          "base_uri": "https://localhost:8080/"
        },
        "id": "zSPiWstYkTjy",
        "outputId": "546f570f-1b80-4de6-b974-f5d0da5f4023"
      },
      "execution_count": 3,
      "outputs": [
        {
          "output_type": "stream",
          "name": "stdout",
          "text": [
            "True\n"
          ]
        }
      ]
    },
    {
      "cell_type": "code",
      "source": [
        "def check_occr(list):\n",
        "  if not list:\n",
        "    return 0\n",
        "  else:\n",
        "    return 1+check_occr(list[1:])\n",
        "\n",
        "list=[1,2,3]\n",
        "print(check_occr(list))"
      ],
      "metadata": {
        "colab": {
          "base_uri": "https://localhost:8080/"
        },
        "id": "USNx8UR9mM5K",
        "outputId": "057f6072-4e58-4aad-cdee-6099aa7bd1a7"
      },
      "execution_count": 4,
      "outputs": [
        {
          "output_type": "stream",
          "name": "stdout",
          "text": [
            "3\n"
          ]
        }
      ]
    },
    {
      "cell_type": "markdown",
      "source": [],
      "metadata": {
        "id": "Il4H6na9EZ44"
      }
    },
    {
      "cell_type": "markdown",
      "source": [
        "#LeetCode Solved on 04/08/2024\n",
        "\n",
        "1. GFG : Linear Search for array element\n",
        "2. Merge two sorted arrays without duplicates\n",
        "3. LeetCode 88 :Merge two sorted array with duplicates\n",
        "4. LeetCode 268 : Missing Number"
      ],
      "metadata": {
        "id": "eXYjlT8hEb_J"
      }
    },
    {
      "cell_type": "code",
      "source": [
        "#linear search for element in array if it is present or not\n",
        "def check_ele(nums,k):\n",
        "  for i in range(len(nums)):\n",
        "    if nums[i]==k:\n",
        "      return i\n",
        "  return -1\n",
        "\n",
        "nums=[1,2,3,4,5]\n",
        "k=5\n",
        "print(check_ele(nums,k))"
      ],
      "metadata": {
        "colab": {
          "base_uri": "https://localhost:8080/"
        },
        "id": "HHPTabMhFr7U",
        "outputId": "a2067f4b-a2a5-41cb-8cc0-422028e922db"
      },
      "execution_count": null,
      "outputs": [
        {
          "output_type": "stream",
          "name": "stdout",
          "text": [
            "4\n"
          ]
        }
      ]
    },
    {
      "cell_type": "code",
      "source": [
        "#merging two sorted array without any duplicates\n",
        "def sortedArray(a,b):\n",
        "  # Write your code here\n",
        "  set_one=set()\n",
        "  union=[]\n",
        "  for num in a:\n",
        "      set_one.add(num)\n",
        "\n",
        "  for num in b:\n",
        "      set_one.add(num)\n",
        "\n",
        "  for num in set_one:\n",
        "      union.append(num)\n",
        "\n",
        "  return union\n",
        "\n",
        "a=[1,2,3,4,5]\n",
        "b=[3,4,5,6,7]\n",
        "print(sortedArray(a,b))"
      ],
      "metadata": {
        "colab": {
          "base_uri": "https://localhost:8080/"
        },
        "id": "I-jp4NzpKS0l",
        "outputId": "f111042a-af8e-4849-ae91-59e86185dc91"
      },
      "execution_count": null,
      "outputs": [
        {
          "output_type": "stream",
          "name": "stdout",
          "text": [
            "[1, 2, 3, 4, 5, 6, 7]\n"
          ]
        }
      ]
    },
    {
      "cell_type": "code",
      "source": [
        "#merge two arrays with duplicates using two pointers\n",
        "def union_num(nums1,nums2,m,n):\n",
        "  for j in range(n):\n",
        "    nums1[m+j] = nums2[j]\n",
        "  nums1.sort()\n",
        "\n",
        "nums1=[1,2,3,0,0,0]\n",
        "m=3\n",
        "nums2=[2,5,6]\n",
        "n=3\n",
        "union_num(nums1,nums2,m,n)\n",
        "print(nums1)\n"
      ],
      "metadata": {
        "colab": {
          "base_uri": "https://localhost:8080/"
        },
        "id": "1RkaQzmZKvk6",
        "outputId": "fde6e031-70b8-4043-cddc-e524411ed8eb"
      },
      "execution_count": null,
      "outputs": [
        {
          "output_type": "stream",
          "name": "stdout",
          "text": [
            "[1, 2, 2, 3, 5, 6]\n"
          ]
        }
      ]
    },
    {
      "cell_type": "code",
      "source": [
        "def union_num(nums1,nums2,m,n):\n",
        "  i=m-1\n",
        "  j=n-1\n",
        "  k=m+n-1 #combined capacity of merged array\n",
        "  while j>=0:\n",
        "    if i>=0 and nums1[i]>nums2[j]:\n",
        "        nums1[k]=nums1[i]\n",
        "        i=i-1\n",
        "    else:\n",
        "        nums1[k]=nums2[j]\n",
        "        j=j-1\n",
        "    k=k-1\n",
        "\n",
        "nums1=[1,2,3,0,0,0]\n",
        "m=3\n",
        "nums2=[2,5,6]\n",
        "n=3\n",
        "union_num(nums1,nums2,m,n)\n",
        "print(nums1)"
      ],
      "metadata": {
        "colab": {
          "base_uri": "https://localhost:8080/"
        },
        "id": "-9yeOUTsNq6_",
        "outputId": "b6d6b946-e055-4775-a276-67364279ecff"
      },
      "execution_count": null,
      "outputs": [
        {
          "output_type": "stream",
          "name": "stdout",
          "text": [
            "[1, 2, 2, 3, 5, 6]\n"
          ]
        }
      ]
    },
    {
      "cell_type": "code",
      "source": [
        "#use sum of natural numbers formula (N*(N+1))/2 and sum of all elements\n",
        "#hence sum_natural_num-sum_of_all_elements\n",
        "\n",
        "def missing_num(nums):\n",
        "  s=len(nums)\n",
        "  sum_natural_num=(s*(s+1))//2\n",
        "  sum_of_all_elements=sum(nums)\n",
        "  missingNum=sum_natural_num-sum_of_all_elements\n",
        "  return int(missingNum)\n",
        "\n",
        "nums=[9,6,4,2,3,5,7,0,1]\n",
        "print(missing_num(nums))"
      ],
      "metadata": {
        "colab": {
          "base_uri": "https://localhost:8080/"
        },
        "id": "-Hdl-bwGU1SH",
        "outputId": "1a56cea3-252e-4a3a-ddee-c5c96930ab73"
      },
      "execution_count": null,
      "outputs": [
        {
          "output_type": "stream",
          "name": "stdout",
          "text": [
            "8\n"
          ]
        }
      ]
    },
    {
      "cell_type": "markdown",
      "source": [
        "#LeetCode Solved on 05/08/2024\n",
        "\n",
        "1. 485 - Maximum consecutive ones's\n",
        "2. 136 - Single Number\n",
        "3. 560 - Subarray Sum Equals K"
      ],
      "metadata": {
        "id": "Qe7z1jg--ASO"
      }
    },
    {
      "cell_type": "code",
      "source": [
        "#initialize one counter and one maxcounter, and take max of them at last\n",
        "def findMaxConsecutiveOnes(nums):\n",
        "  n=len(nums)\n",
        "  count=0\n",
        "  maxCount=0\n",
        "  for i in range(n):\n",
        "      if nums[i]==1:\n",
        "          count=count+1\n",
        "      else:\n",
        "          count=0\n",
        "      maxCount=max(maxCount,count)\n",
        "  return maxCount\n",
        "\n",
        "nums=[1,1,0,1,1,1]\n",
        "print(findMaxConsecutiveOnes(nums))"
      ],
      "metadata": {
        "colab": {
          "base_uri": "https://localhost:8080/"
        },
        "id": "jVsxeLt0-KHS",
        "outputId": "0958ab49-1f4d-4ec0-8b85-ea8dee64f846"
      },
      "execution_count": 1,
      "outputs": [
        {
          "output_type": "stream",
          "name": "stdout",
          "text": [
            "3\n"
          ]
        }
      ]
    },
    {
      "cell_type": "code",
      "source": [
        "#For every element present in the array,\n",
        "#we will do a linear search and count the occurrence. If for any element,\n",
        "#the occurrence is 1, we will return it.\n",
        "def singleNumber(nums):\n",
        "  # n=len(nums)\n",
        "  # for i in range(n):\n",
        "  #     num=nums[i]\n",
        "  #     print(num)\n",
        "  #     count=0\n",
        "  #     for j in range(n):\n",
        "  #         if nums[j]==num:\n",
        "  #             count=count+1\n",
        "  #     if count==1:\n",
        "  #         return num\n",
        "  map = {}\n",
        "\n",
        "  for i in range(len(nums)):\n",
        "      if nums[i] not in map:\n",
        "          map[nums[i]] = 1\n",
        "          print(map)\n",
        "      elif nums[i] in map:\n",
        "          map[nums[i]] += 1\n",
        "          print(map)\n",
        "\n",
        "  # {1:1, 2:2}\n",
        "  for i in range(len(nums)):\n",
        "      if map[nums[i]] == 1:\n",
        "          return nums[i]\n",
        "nums=[4,1,2,1,2]\n",
        "print(singleNumber(nums))"
      ],
      "metadata": {
        "colab": {
          "base_uri": "https://localhost:8080/"
        },
        "id": "JtE0jzRCAvBH",
        "outputId": "0257db87-2115-439f-9712-6750b33c4776"
      },
      "execution_count": 13,
      "outputs": [
        {
          "output_type": "stream",
          "name": "stdout",
          "text": [
            "{}\n",
            "{4: 1}\n",
            "{4: 1, 1: 1}\n",
            "{4: 1, 1: 1, 2: 1}\n",
            "{4: 1, 1: 2, 2: 1}\n",
            "{4: 1, 1: 2, 2: 2}\n",
            "4\n"
          ]
        }
      ]
    },
    {
      "cell_type": "code",
      "source": [
        "#second solution using map\n",
        "def getSingleElement(nums):\n",
        "  map = {}\n",
        "\n",
        "  for i in range(len(nums)):\n",
        "      if nums[i] not in map:\n",
        "          map[nums[i]] = 1\n",
        "          print(map)\n",
        "      elif nums[i] in map:\n",
        "          map[nums[i]] += 1\n",
        "          print(map)\n",
        "\n",
        "  # {1:1, 2:2}\n",
        "  for i in range(len(nums)):\n",
        "      if map[nums[i]] == 1:\n",
        "          return nums[i]\n",
        "\n",
        "nums=[4,1,2,1,2]\n",
        "print(getSingleElement(arr))"
      ],
      "metadata": {
        "colab": {
          "base_uri": "https://localhost:8080/"
        },
        "id": "T0eDS1gxBt_-",
        "outputId": "9f1a981f-cebf-41a5-e855-6d670f682fd9"
      },
      "execution_count": 15,
      "outputs": [
        {
          "output_type": "stream",
          "name": "stdout",
          "text": [
            "{4: 1}\n",
            "{4: 1, 1: 1}\n",
            "{4: 1, 1: 1, 2: 1}\n",
            "{4: 1, 1: 2, 2: 1}\n",
            "{4: 1, 1: 2, 2: 2}\n",
            "4\n"
          ]
        }
      ]
    },
    {
      "cell_type": "code",
      "source": [
        "def subarraySum(nums,k) -> int:\n",
        "  currSum=0\n",
        "  res=0\n",
        "  prefixSum={0:1}\n",
        "  for n in nums:\n",
        "      currSum+=n\n",
        "      diff=currSum - k\n",
        "      res+=prefixSum.get(diff,0)\n",
        "      prefixSum[currSum]=1+prefixSum.get(currSum,0)\n",
        "  return res\n",
        "\n",
        "nums=[1,2,3]\n",
        "k=3\n",
        "print(subarraySum(nums,k))"
      ],
      "metadata": {
        "colab": {
          "base_uri": "https://localhost:8080/"
        },
        "id": "p_DxU5NBIx_7",
        "outputId": "ef06c75e-8fdb-40bb-9cb7-0adbfa356abb"
      },
      "execution_count": 27,
      "outputs": [
        {
          "output_type": "stream",
          "name": "stdout",
          "text": [
            "2\n"
          ]
        }
      ]
    }
  ]
}