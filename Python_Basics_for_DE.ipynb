{
  "nbformat": 4,
  "nbformat_minor": 0,
  "metadata": {
    "colab": {
      "provenance": [],
      "authorship_tag": "ABX9TyMOWp7qTF7R55VrhP8kkA7C",
      "include_colab_link": true
    },
    "kernelspec": {
      "name": "python3",
      "display_name": "Python 3"
    },
    "language_info": {
      "name": "python"
    }
  },
  "cells": [
    {
      "cell_type": "markdown",
      "metadata": {
        "id": "view-in-github",
        "colab_type": "text"
      },
      "source": [
        "<a href=\"https://colab.research.google.com/github/Rutikab12/Play_with_Python/blob/main/Python_Basics_for_DE.ipynb\" target=\"_parent\"><img src=\"https://colab.research.google.com/assets/colab-badge.svg\" alt=\"Open In Colab\"/></a>"
      ]
    },
    {
      "cell_type": "markdown",
      "source": [
        "# Sets in Python\n",
        "\n",
        "set is an unordered collection of items.\n",
        "\n",
        "No duplicates.\n",
        "\n",
        "Sets can be used to perform mathematical set operations like union,intersection,symmetric difference,etc.\n",
        "\n",
        "It is Mutable."
      ],
      "metadata": {
        "id": "4Df4luyneCp9"
      }
    },
    {
      "cell_type": "code",
      "execution_count": 9,
      "metadata": {
        "colab": {
          "base_uri": "https://localhost:8080/"
        },
        "id": "DgclBtgzn8d7",
        "outputId": "d2052ec0-bf15-4212-fe60-f045b132403d",
        "collapsed": true
      },
      "outputs": [
        {
          "output_type": "stream",
          "name": "stdout",
          "text": [
            "None\n",
            "None\n",
            "None\n",
            "None\n",
            "1\n"
          ]
        }
      ],
      "source": [
        "#emptyset\n",
        "\n",
        "empty=set() #dtype:set\n",
        "\n",
        "empty={} #dtype:dict\n",
        "\n",
        "#add and update\n",
        "\n",
        "set1={'python','java'}\n",
        "\n",
        "print(set1.add('c++'))\n",
        "\n",
        "#add → only adds one element at a time\n",
        "\n",
        "set2={1,2,3}\n",
        "\n",
        "print(set2.update({4,5,6}))\n",
        "\n",
        "#update → can add multiple elements at at time\n",
        "\n",
        "#remove\n",
        "\n",
        "set2={1,2,3,4,5,6}\n",
        "\n",
        "print(set2.remove(1))\n",
        "\n",
        "#if I tried to remove element not present in set it gives key_Error.\n",
        "\n",
        "#discard\n",
        "\n",
        "set1={'py','java','c++'}\n",
        "\n",
        "print(set1.discard('py'))\n",
        "\n",
        "#if I tried remove element not present in set, it won;t give error.\n",
        "\n",
        "#pop\n",
        "\n",
        "set3={1,2,3,4,5,6}\n",
        "\n",
        "print(set3.pop())\n",
        "\n",
        "#it remove any random element from set\n",
        "\n",
        "#clear\n",
        "\n",
        "set3.clear()\n",
        "\n",
        "#it clears whole set"
      ]
    },
    {
      "cell_type": "code",
      "source": [
        "set1={1,2,3,4,4}\n",
        "\n",
        "set2={4,5,6}\n",
        "\n",
        "#set union\n",
        "print(set1.union(set2)) #gives only unique elements\n",
        "\n",
        "print(set1 | set2)\n",
        "\n",
        "#set intersection\n",
        "print(set1.intersection(set2))\n",
        "print(set1 & set2)\n",
        "\n",
        "#set difference\n",
        "print(set1.difference(set2))\n",
        "print(set2-set1)\n",
        "\n",
        "#set symmetric difference\n",
        "print(set1.symmetric_difference(set2))\n",
        "print(set1 ^ set2)\n",
        "\n",
        "#set subset\n",
        "set3={'a','b','c'}\n",
        "set4={'f','e','d','c','b'}\n",
        "z=set3.issubset(set4)\n",
        "print(z)"
      ],
      "metadata": {
        "colab": {
          "base_uri": "https://localhost:8080/"
        },
        "id": "DIzEAfdjpmz9",
        "outputId": "b9f39314-4799-40fd-acee-e2e1a2e87096",
        "collapsed": true
      },
      "execution_count": 17,
      "outputs": [
        {
          "output_type": "stream",
          "name": "stdout",
          "text": [
            "{1, 2, 3, 4}\n",
            "{1, 2, 3, 4, 5, 6}\n",
            "{1, 2, 3, 4, 5, 6}\n",
            "{4}\n",
            "{4}\n",
            "{1, 2, 3}\n",
            "{5, 6}\n",
            "{1, 2, 3, 5, 6}\n",
            "{1, 2, 3, 5, 6}\n",
            "False\n"
          ]
        }
      ]
    },
    {
      "cell_type": "markdown",
      "source": [
        "#frozen sets\n",
        "\n",
        "Frozen is quite relatable with tuple\n",
        "\n",
        "It is immutable.\n",
        "Can be created using frozenset()\n",
        "Does not support indexing\n",
        "Set cannot be used as a key in dictionary but frozen set can."
      ],
      "metadata": {
        "id": "yBlslpKWfQp1"
      }
    },
    {
      "cell_type": "code",
      "source": [
        "#forzen set\n",
        "nu=(1,2,3,4,5,6,7,8,9)\n",
        "fnum=frozenset(nu) #converting tuple to frozenset\n",
        "print(fnum)\n",
        "\n",
        "#adding elements , will give attribute error\n",
        "se=frozenset([10,20,30])\n",
        "#se.add(90)\n",
        "\n",
        "#frozen set can be used as a key in dict\n",
        "Student={'name':'Ankit','age':'21','sex':'M'}\n",
        "key=frozenset(Student)\n",
        "print(key)\n",
        "\n",
        "#does not support indxing, hence give typerror\n",
        "#se[1]=90"
      ],
      "metadata": {
        "colab": {
          "base_uri": "https://localhost:8080/"
        },
        "collapsed": true,
        "id": "S335lwdpflyg",
        "outputId": "e6afe06a-f25d-4460-8d2f-9d27d28126c9"
      },
      "execution_count": 18,
      "outputs": [
        {
          "output_type": "stream",
          "name": "stdout",
          "text": [
            "frozenset({1, 2, 3, 4, 5, 6, 7, 8, 9})\n",
            "frozenset({'name', 'sex', 'age'})\n"
          ]
        }
      ]
    },
    {
      "cell_type": "code",
      "source": [
        "#Patterns using for-loop\n",
        "\n",
        "'''1.star pattern\n",
        "eg: * * * * * *\n",
        "    * * * * * *\n",
        "    * * * * * *\n",
        "'''\n",
        "for row in range(1,6):\n",
        "  print(end='\\n')  #we can use print() only\n",
        "  for column in range(1,6):\n",
        "    print('*',end=' ')  #end to print in same line\n"
      ],
      "metadata": {
        "colab": {
          "base_uri": "https://localhost:8080/"
        },
        "id": "8OzB99l2iEMi",
        "outputId": "4e33fcb1-a131-4b98-eb28-466963670a0a"
      },
      "execution_count": 26,
      "outputs": [
        {
          "output_type": "stream",
          "name": "stdout",
          "text": [
            "\n",
            "* * * * * \n",
            "* * * * * \n",
            "* * * * * \n",
            "* * * * * \n",
            "* * * * * "
          ]
        }
      ]
    }
  ]
}