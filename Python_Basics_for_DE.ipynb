{
  "nbformat": 4,
  "nbformat_minor": 0,
  "metadata": {
    "colab": {
      "provenance": [],
      "authorship_tag": "ABX9TyNx1QbU+c94SZ5GoJUaj9Bo",
      "include_colab_link": true
    },
    "kernelspec": {
      "name": "python3",
      "display_name": "Python 3"
    },
    "language_info": {
      "name": "python"
    }
  },
  "cells": [
    {
      "cell_type": "markdown",
      "metadata": {
        "id": "view-in-github",
        "colab_type": "text"
      },
      "source": [
        "<a href=\"https://colab.research.google.com/github/Rutikab12/Play_with_Python/blob/main/Python_Basics_for_DE.ipynb\" target=\"_parent\"><img src=\"https://colab.research.google.com/assets/colab-badge.svg\" alt=\"Open In Colab\"/></a>"
      ]
    },
    {
      "cell_type": "markdown",
      "source": [
        "#Dictionary in Python\n",
        "it is an unordered collection of elements.\n",
        "Used to store values like map.\n",
        "\n",
        "\n",
        "Unlike other datatype which hold\n",
        "only single values, dictionary have 'key:value' pairs.\n",
        "where\n",
        "\n",
        "key: is single value\n",
        "\n",
        "value: can be list,list within list,numbers, etc"
      ],
      "metadata": {
        "id": "um8ZHkGmXU0C"
      }
    },
    {
      "cell_type": "code",
      "source": [
        "#Dictionary Methods\n",
        "\n",
        "#initialize empty dict\n",
        "empt_dict={}\n",
        "print(type(empt_dict))\n",
        "\n",
        "#dict of list of tuples\n",
        "dict1=dict([(1,'a'),(2,'b')])\n",
        "print(dict1)\n",
        "\n",
        "#update the value in dict\n",
        "dict2={'Name':'Rutik','Class':'A','Age':32}\n",
        "dict2['Name']='Ankit'\n",
        "print(dict2)\n",
        "\n",
        "#add a new value to dict\n",
        "dict2['Address']='Pune'\n",
        "print(dict2)\n",
        "\n",
        "#delete the value\n",
        "del dict2['Address']\n",
        "print(dict2)\n",
        "\n",
        "#pop\n",
        "dict2.pop('Name')\n",
        "print(dict2)\n",
        "\n",
        "#popitem\n",
        "dict2.popitem() #pop from start one by one\n",
        "print(dict2)\n",
        "\n",
        "#clear whole dict\n",
        "dict2.clear()\n",
        "print(dict2)\n"
      ],
      "metadata": {
        "colab": {
          "base_uri": "https://localhost:8080/"
        },
        "id": "R38zsgvPXVT2",
        "outputId": "471ee643-1727-4706-bbb0-b7c8d8b4dba2"
      },
      "execution_count": 23,
      "outputs": [
        {
          "output_type": "stream",
          "name": "stdout",
          "text": [
            "<class 'dict'>\n",
            "{1: 'a', 2: 'b'}\n",
            "{'Name': 'Ankit', 'Class': 'A', 'Age': 32}\n",
            "{'Name': 'Ankit', 'Class': 'A', 'Age': 32, 'Address': 'Pune'}\n",
            "{'Name': 'Ankit', 'Class': 'A', 'Age': 32}\n",
            "{'Class': 'A', 'Age': 32}\n",
            "{'Class': 'A'}\n",
            "{}\n"
          ]
        }
      ]
    },
    {
      "cell_type": "markdown",
      "source": [
        "# Sets in Python\n",
        "\n",
        "set is an unordered collection of items.\n",
        "\n",
        "No duplicates.\n",
        "\n",
        "Sets can be used to perform mathematical set operations like union,intersection,symmetric difference,etc.\n",
        "\n",
        "It is Mutable."
      ],
      "metadata": {
        "id": "4Df4luyneCp9"
      }
    },
    {
      "cell_type": "code",
      "execution_count": null,
      "metadata": {
        "colab": {
          "base_uri": "https://localhost:8080/"
        },
        "id": "DgclBtgzn8d7",
        "outputId": "d2052ec0-bf15-4212-fe60-f045b132403d"
      },
      "outputs": [
        {
          "output_type": "stream",
          "name": "stdout",
          "text": [
            "None\n",
            "None\n",
            "None\n",
            "None\n",
            "1\n"
          ]
        }
      ],
      "source": [
        "#emptyset\n",
        "\n",
        "empty=set() #dtype:set\n",
        "\n",
        "empty={} #dtype:dict\n",
        "\n",
        "#add and update\n",
        "\n",
        "set1={'python','java'}\n",
        "\n",
        "print(set1.add('c++'))\n",
        "\n",
        "#add → only adds one element at a time\n",
        "\n",
        "set2={1,2,3}\n",
        "\n",
        "print(set2.update({4,5,6}))\n",
        "\n",
        "#update → can add multiple elements at at time\n",
        "\n",
        "#remove\n",
        "\n",
        "set2={1,2,3,4,5,6}\n",
        "\n",
        "print(set2.remove(1))\n",
        "\n",
        "#if I tried to remove element not present in set it gives key_Error.\n",
        "\n",
        "#discard\n",
        "\n",
        "set1={'py','java','c++'}\n",
        "\n",
        "print(set1.discard('py'))\n",
        "\n",
        "#if I tried remove element not present in set, it won;t give error.\n",
        "\n",
        "#pop\n",
        "\n",
        "set3={1,2,3,4,5,6}\n",
        "\n",
        "print(set3.pop())\n",
        "\n",
        "#it remove any random element from set\n",
        "\n",
        "#clear\n",
        "\n",
        "set3.clear()\n",
        "\n",
        "#it clears whole set"
      ]
    },
    {
      "cell_type": "code",
      "source": [
        "set1={1,2,3,4,4}\n",
        "\n",
        "set2={4,5,6}\n",
        "\n",
        "#set union\n",
        "print(set1.union(set2)) #gives only unique elements\n",
        "\n",
        "print(set1 | set2)\n",
        "\n",
        "#set intersection\n",
        "print(set1.intersection(set2))\n",
        "print(set1 & set2)\n",
        "\n",
        "#set difference\n",
        "print(set1.difference(set2))\n",
        "print(set2-set1)\n",
        "\n",
        "#set symmetric difference\n",
        "print(set1.symmetric_difference(set2))\n",
        "print(set1 ^ set2)\n",
        "\n",
        "#set subset\n",
        "set3={'a','b','c'}\n",
        "set4={'f','e','d','c','b'}\n",
        "z=set3.issubset(set4)\n",
        "print(z)"
      ],
      "metadata": {
        "colab": {
          "base_uri": "https://localhost:8080/"
        },
        "id": "DIzEAfdjpmz9",
        "outputId": "b9f39314-4799-40fd-acee-e2e1a2e87096",
        "collapsed": true
      },
      "execution_count": null,
      "outputs": [
        {
          "output_type": "stream",
          "name": "stdout",
          "text": [
            "{1, 2, 3, 4}\n",
            "{1, 2, 3, 4, 5, 6}\n",
            "{1, 2, 3, 4, 5, 6}\n",
            "{4}\n",
            "{4}\n",
            "{1, 2, 3}\n",
            "{5, 6}\n",
            "{1, 2, 3, 5, 6}\n",
            "{1, 2, 3, 5, 6}\n",
            "False\n"
          ]
        }
      ]
    },
    {
      "cell_type": "markdown",
      "source": [
        "#frozen sets\n",
        "\n",
        "Frozen is quite relatable with tuple\n",
        "\n",
        "It is immutable.\n",
        "Can be created using frozenset().\n",
        "Does not support indexing\n",
        "Set cannot be used as a key in dictionary but frozen set can."
      ],
      "metadata": {
        "id": "yBlslpKWfQp1"
      }
    },
    {
      "cell_type": "code",
      "source": [
        "#forzen set\n",
        "nu=(1,2,3,4,5,6,7,8,9)\n",
        "fnum=frozenset(nu) #converting tuple to frozenset\n",
        "print(fnum)\n",
        "\n",
        "#adding elements , will give attribute error\n",
        "se=frozenset([10,20,30])\n",
        "#se.add(90)\n",
        "\n",
        "#frozen set can be used as a key in dict\n",
        "Student={'name':'Ankit','age':'21','sex':'M'}\n",
        "key=frozenset(Student)\n",
        "print(key)\n",
        "\n",
        "#does not support indxing, hence give typerror\n",
        "#se[1]=90"
      ],
      "metadata": {
        "colab": {
          "base_uri": "https://localhost:8080/"
        },
        "id": "S335lwdpflyg",
        "outputId": "e6afe06a-f25d-4460-8d2f-9d27d28126c9"
      },
      "execution_count": null,
      "outputs": [
        {
          "output_type": "stream",
          "name": "stdout",
          "text": [
            "frozenset({1, 2, 3, 4, 5, 6, 7, 8, 9})\n",
            "frozenset({'name', 'sex', 'age'})\n"
          ]
        }
      ]
    },
    {
      "cell_type": "code",
      "source": [
        "#Patterns using for-\n",
        "#row-column needs to be identified in this cases, first try to implement it row wise and then column wise.\n",
        "\n",
        "'''1.star pattern\n",
        "eg: * * * * * *\n",
        "    * * * * * *\n",
        "    * * * * * *\n",
        "'''\n",
        "for row in range(1,6):\n",
        "  print(end='\\n')  #we can use print() only\n",
        "  for column in range(1,6):\n",
        "    print('*',end=' ')  #end to print in same line\n"
      ],
      "metadata": {
        "colab": {
          "base_uri": "https://localhost:8080/"
        },
        "id": "8OzB99l2iEMi",
        "outputId": "4e33fcb1-a131-4b98-eb28-466963670a0a"
      },
      "execution_count": null,
      "outputs": [
        {
          "output_type": "stream",
          "name": "stdout",
          "text": [
            "\n",
            "* * * * * \n",
            "* * * * * \n",
            "* * * * * \n",
            "* * * * * \n",
            "* * * * * "
          ]
        }
      ]
    },
    {
      "cell_type": "code",
      "source": [
        "#2.Traingle Pattern\n",
        "'''\n",
        "*\n",
        "* *\n",
        "* * *\n",
        "* * * *\n",
        "* * * * *\n",
        "'''\n",
        "#just add row+1 to get no of stars similar to row_numbers\n",
        "for row in range(1,6):\n",
        "  print(end='\\n')\n",
        "  for column in range(1,row+1):\n",
        "    print('*',end=' ')\n"
      ],
      "metadata": {
        "id": "Hf_45ujIsq7v",
        "colab": {
          "base_uri": "https://localhost:8080/"
        },
        "collapsed": true,
        "outputId": "e52e15d3-b644-41d4-a707-477c056a0058"
      },
      "execution_count": null,
      "outputs": [
        {
          "output_type": "stream",
          "name": "stdout",
          "text": [
            "\n",
            "* \n",
            "* * \n",
            "* * * \n",
            "* * * * \n",
            "* * * * * "
          ]
        }
      ]
    },
    {
      "cell_type": "code",
      "source": [
        "#3. Triangle Pattern\n",
        "'''\n",
        "* * * * *\n",
        "* * * *\n",
        "* * *\n",
        "* *\n",
        "*\n",
        "'''\n",
        "for row in range(6,0,-1):\n",
        "  print(end='\\n')\n",
        "  for column in range(1,row+1):\n",
        "    print('*',end=' ')"
      ],
      "metadata": {
        "colab": {
          "base_uri": "https://localhost:8080/"
        },
        "collapsed": true,
        "id": "rVCZbyvDp_Qc",
        "outputId": "6839b7a1-6fa6-45cf-c8a0-243274dcc3df"
      },
      "execution_count": 8,
      "outputs": [
        {
          "output_type": "stream",
          "name": "stdout",
          "text": [
            "\n",
            "* * * * * * \n",
            "* * * * * \n",
            "* * * * \n",
            "* * * \n",
            "* * \n",
            "* "
          ]
        }
      ]
    },
    {
      "cell_type": "code",
      "source": [
        "#4.Printing Pattern by some stepsize\n",
        "'''\n",
        "**\n",
        "****\n",
        "******\n",
        "'''\n",
        "for row in range(1,6,2):\n",
        "  print(end='\\n')\n",
        "  for column in range(1,row+1):\n",
        "    print('*',end=' ')"
      ],
      "metadata": {
        "colab": {
          "base_uri": "https://localhost:8080/"
        },
        "collapsed": true,
        "id": "qs8kFV_9rrtd",
        "outputId": "9731a38a-248a-47ca-c690-14099b6283f2"
      },
      "execution_count": 7,
      "outputs": [
        {
          "output_type": "stream",
          "name": "stdout",
          "text": [
            "\n",
            "* \n",
            "* * * \n",
            "* * * * * "
          ]
        }
      ]
    },
    {
      "cell_type": "code",
      "source": [
        "#5.Pattern Pyrami\n",
        "'''\n",
        "*\n",
        "* *\n",
        "* * *\n",
        "* * * *\n",
        "* * * * *\n",
        "'''\n",
        "num=int(input('Enter no of rows: '))\n",
        "for row in range(1,num):\n",
        "  print(end='\\n')\n",
        "  for column in range(1,row+1):\n",
        "    print('*',end=' ')\n",
        "  print()\n",
        "\n",
        "#for pyramid structure we use same logic as we need space 3,2,1,0\n",
        "for row in range(1,num+1):\n",
        "  for j in range(1,num-row+1):\n",
        "    print(end=' ')\n",
        "  for column in range(1,row+1):\n",
        "    print('*',end=' ')\n",
        "  print()"
      ],
      "metadata": {
        "colab": {
          "base_uri": "https://localhost:8080/"
        },
        "collapsed": true,
        "id": "LqTpTC2xSN14",
        "outputId": "4ad274f1-4abd-4525-e02e-bd2ba7b94001"
      },
      "execution_count": 10,
      "outputs": [
        {
          "output_type": "stream",
          "name": "stdout",
          "text": [
            "Enter no of rows: 6\n",
            "\n",
            "* \n",
            "\n",
            "* * \n",
            "\n",
            "* * * \n",
            "\n",
            "* * * * \n",
            "\n",
            "* * * * * \n",
            "     * \n",
            "    * * \n",
            "   * * * \n",
            "  * * * * \n",
            " * * * * * \n",
            "* * * * * * \n"
          ]
        }
      ]
    },
    {
      "cell_type": "code",
      "source": [
        "#Patter : Inverted Traingle\n",
        "num=int(input('Enter no of rows: '))\n",
        "for row in range(num,0,-1):\n",
        "  for j in range(1,num-row+1):\n",
        "    print(end=' ')\n",
        "  for column in range(1,row+1):\n",
        "    print('*',end=' ')\n",
        "  print()"
      ],
      "metadata": {
        "colab": {
          "base_uri": "https://localhost:8080/"
        },
        "collapsed": true,
        "id": "iEquhBTIVctS",
        "outputId": "3a542bf3-351f-486a-860d-81b7616bb414"
      },
      "execution_count": 13,
      "outputs": [
        {
          "output_type": "stream",
          "name": "stdout",
          "text": [
            "Enter no of rows: 6\n",
            "* * * * * * \n",
            " * * * * * \n",
            "  * * * * \n",
            "   * * * \n",
            "    * * \n",
            "     * \n"
          ]
        }
      ]
    },
    {
      "cell_type": "code",
      "source": [
        "#LeetCode: Count no of digits\n",
        "def evenlyDivides (self, N):\n",
        "        # code here\n",
        "        dup = N\n",
        "        i = 0\n",
        "        while N != 0:\n",
        "            last_digit = N % 10\n",
        "            if last_digit != 0 and dup % last_digit == 0:\n",
        "                i += 1\n",
        "            N = N // 10\n",
        "        return i"
      ],
      "metadata": {
        "id": "TohChBT50GDP"
      },
      "execution_count": null,
      "outputs": []
    },
    {
      "cell_type": "code",
      "source": [
        "#LeetCode: Reverse the Number\n",
        "def reverse(self, x: int) -> int:\n",
        "        sign = -1 if x < 0 else 1\n",
        "        x *= sign\n",
        "        revNum=0\n",
        "        while x>0:\n",
        "            last_digit=x%10\n",
        "            revNum=revNum*10+last_digit\n",
        "            x=x//10\n",
        "        revNum *= sign\n",
        "        if revNum > 2 ** 31 - 1 or revNum < -2 ** 31:\n",
        "            return 0\n",
        "        return revNum\n",
        "#first check the number is +ve or -ve\n",
        "#then do logic part\n",
        "#come out of while loop and again check size of number and then return it."
      ],
      "metadata": {
        "id": "57_IHWQVxRCI"
      },
      "execution_count": null,
      "outputs": []
    },
    {
      "cell_type": "code",
      "source": [
        "#LeetCode: Palindrome Number or not\n",
        "def isPalindrome(self, x: int) -> bool:\n",
        "        sign = -1 if x < 0 else 1\n",
        "        x *= sign\n",
        "        dup = x\n",
        "        revNum=0\n",
        "        while x>0:\n",
        "            last_digit=x%10\n",
        "            revNum=revNum*10+last_digit\n",
        "            x=x//10\n",
        "        revNum *= sign\n",
        "        if revNum > 2 ** 31 - 1 or revNum < -2 ** 31:\n",
        "            return 0\n",
        "        if revNum==dup:\n",
        "            return True\n",
        "        return False\n"
      ],
      "metadata": {
        "id": "wjjCtiIHxn4D"
      },
      "execution_count": null,
      "outputs": []
    },
    {
      "cell_type": "code",
      "source": [
        "#LeetCode: Armstrong number or not\n",
        "def armstrongNumber (n):\n",
        "        # calc no of digits first\n",
        "        k=len(str(n))\n",
        "        dup=n\n",
        "        #initialize sum=0\n",
        "        sum=0\n",
        "        while n!=0:\n",
        "            last_digit=n%10\n",
        "            sum=sum+(last_digit**k)\n",
        "            n=n//10\n",
        "        if sum==dup:\n",
        "            return True\n",
        "        else:\n",
        "            return False\n",
        "armstrongNumber(153)"
      ],
      "metadata": {
        "colab": {
          "base_uri": "https://localhost:8080/"
        },
        "id": "fhjqXjYf0Yns",
        "outputId": "5e2df41c-1fc7-4d79-9f10-bb6378936057",
        "collapsed": true
      },
      "execution_count": null,
      "outputs": [
        {
          "output_type": "execute_result",
          "data": {
            "text/plain": [
              "True"
            ]
          },
          "metadata": {},
          "execution_count": 10
        }
      ]
    },
    {
      "cell_type": "code",
      "source": [
        "#LeetCode :Length of Last Word\n",
        "def lengthOfLastWord(s):\n",
        "  #first elimnate the white spaces\n",
        "  s=s.strip()\n",
        "  #split the string with space or any character\n",
        "  strList=s.split(\" \")\n",
        "  #take out last work in that list\n",
        "  last_word=strList[-1]\n",
        "  #measure its size and return\n",
        "  size=len(last_word)\n",
        "  return size\n",
        "\n",
        "lengthOfLastWord('Hello World')"
      ],
      "metadata": {
        "colab": {
          "base_uri": "https://localhost:8080/"
        },
        "collapsed": true,
        "id": "64rbeNVKvv94",
        "outputId": "2b93cc20-e7e2-422c-baae-65846cca06ba"
      },
      "execution_count": 24,
      "outputs": [
        {
          "output_type": "execute_result",
          "data": {
            "text/plain": [
              "5"
            ]
          },
          "metadata": {},
          "execution_count": 24
        }
      ]
    },
    {
      "cell_type": "code",
      "source": [
        "#Find fibonacci\n",
        "'''\n",
        "0,1,1,2,3,5,8,13,21,34,55,89  --number series\n",
        "---------------------------\n",
        "0,1,2,3,4,5,6,7,8,9,10,11  --index\n",
        "'''\n",
        "def fib(n):\n",
        "  if n==0 or n==1:\n",
        "    return n\n",
        "  else:\n",
        "    return fib(n-1)+fib(n-2)\n",
        "fib(10)"
      ],
      "metadata": {
        "colab": {
          "base_uri": "https://localhost:8080/"
        },
        "collapsed": true,
        "id": "lLlx11Vc10Wz",
        "outputId": "0c822fab-06e4-4ca3-88c1-b0e3832b4656"
      },
      "execution_count": 26,
      "outputs": [
        {
          "output_type": "execute_result",
          "data": {
            "text/plain": [
              "55"
            ]
          },
          "metadata": {},
          "execution_count": 26
        }
      ]
    },
    {
      "cell_type": "code",
      "source": [],
      "metadata": {
        "id": "ptrN4OCQ2Qx8"
      },
      "execution_count": null,
      "outputs": []
    }
  ]
}