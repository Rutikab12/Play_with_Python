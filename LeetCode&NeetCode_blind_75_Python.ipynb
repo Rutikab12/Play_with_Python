{
  "nbformat": 4,
  "nbformat_minor": 0,
  "metadata": {
    "colab": {
      "provenance": [],
      "authorship_tag": "ABX9TyNXL32ZRp9MDaIa3jaJ2Mch",
      "include_colab_link": true
    },
    "kernelspec": {
      "name": "python3",
      "display_name": "Python 3"
    },
    "language_info": {
      "name": "python"
    }
  },
  "cells": [
    {
      "cell_type": "markdown",
      "metadata": {
        "id": "view-in-github",
        "colab_type": "text"
      },
      "source": [
        "<a href=\"https://colab.research.google.com/github/Rutikab12/Play_with_Python/blob/main/LeetCode%26NeetCode_blind_75_Python.ipynb\" target=\"_parent\"><img src=\"https://colab.research.google.com/assets/colab-badge.svg\" alt=\"Open In Colab\"/></a>"
      ]
    },
    {
      "cell_type": "markdown",
      "source": [
        "#Solved on 23/08/2024\n",
        "\n",
        "1. Sum of Two Integers without using + operator - 371\n",
        "2. Valid Anagram - 242"
      ],
      "metadata": {
        "id": "-A_E8F86eXuL"
      }
    },
    {
      "cell_type": "code",
      "source": [
        "def getSum(a,b):\n",
        "  # 32 bit mask in hexadecimal\n",
        "  mask = 0xffffffff\n",
        "  while (b & mask) !=0 :\n",
        "      carry=a & b\n",
        "      a = a ^ b\n",
        "      b = carry << 1\n",
        "  if b > 0:\n",
        "      return (a & mask)\n",
        "  else:\n",
        "      return a\n",
        "\n",
        "a=10\n",
        "b=20\n",
        "print(getSum(a,b))"
      ],
      "metadata": {
        "colab": {
          "base_uri": "https://localhost:8080/"
        },
        "id": "wJ3cwWAne8h3",
        "outputId": "94eda3c1-ce1e-41c7-8d9a-5bdb05d7ecd6"
      },
      "execution_count": 2,
      "outputs": [
        {
          "output_type": "stream",
          "name": "stdout",
          "text": [
            "30\n"
          ]
        }
      ]
    },
    {
      "cell_type": "code",
      "execution_count": 1,
      "metadata": {
        "id": "dG-LetzpanHG",
        "colab": {
          "base_uri": "https://localhost:8080/"
        },
        "outputId": "6d522eb3-fa7e-4483-b402-a32d145a7c93"
      },
      "outputs": [
        {
          "output_type": "stream",
          "name": "stdout",
          "text": [
            "True\n"
          ]
        }
      ],
      "source": [
        "#valid anagram using hashmap appraoch\n",
        "def isAnagram(s,t):\n",
        "  #first solution using hashmaps and counting frequencies of each element\n",
        "  #first check lenght of both string\n",
        "  if len(s)!=len(t):\n",
        "      return False\n",
        "  #declare two hashmaps\n",
        "  has1,has2={},{}\n",
        "  #now interate through string\n",
        "  for i in range(len(s)):\n",
        "      #character s at index i and to avoid key error in case key is not present , use get\n",
        "      has1[s[i]] = 1 + has1.get(s[i],0) #0 is default value if key not found\n",
        "      #apply same rule for second string using same loop\n",
        "      has2[t[i]] = 1 + has2.get(t[i],0)\n",
        "  #now checks the count of keys in both hashmap, if same return True else False\n",
        "  #and also handle if one of key is not present in one of hashmap , again use get to handle it\n",
        "  for j in has1:\n",
        "      if has1[j]!=has2.get(j,0):\n",
        "          return False\n",
        "  return True\n",
        "\n",
        "s=\"anagram\"\n",
        "t=\"nagaram\"\n",
        "print(isAnagram(s,t))"
      ]
    },
    {
      "cell_type": "code",
      "source": [],
      "metadata": {
        "id": "EHLDIJxPeraM"
      },
      "execution_count": null,
      "outputs": []
    }
  ]
}